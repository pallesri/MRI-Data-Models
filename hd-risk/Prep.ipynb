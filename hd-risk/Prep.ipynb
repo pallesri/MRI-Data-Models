{
 "cells": [
  {
   "cell_type": "markdown",
   "metadata": {},
   "source": [
    "# Training Flair on HD Risk Data"
   ]
  },
  {
   "cell_type": "code",
   "execution_count": 55,
   "metadata": {},
   "outputs": [],
   "source": [
    "import re\n",
    "import numpy as np\n",
    "import pandas as pd\n",
    "from functools import reduce"
   ]
  },
  {
   "cell_type": "code",
   "execution_count": 71,
   "metadata": {},
   "outputs": [],
   "source": [
    "#D:\\FloridaBlue\\hd-risk\\data\\CASED_CAD_indicator\n",
    "data_folder = r'D:\\FloridaBlue\\hd-risk\\data'\n",
    "    \n",
    "cad_train_ind = pd.read_csv(data_folder + r'\\CASED_CAD_indicator\\train.tsv', sep = '\\t', header=None, index_col=0)\n",
    "cad_dev_ind = pd.read_csv(data_folder + r'\\CASED_CAD_indicator\\dev.tsv', sep = '\\t', header=None, index_col=0)\n",
    "cad_test_ind = pd.read_csv(data_folder + r'\\CASED_CAD_indicator\\test.tsv', sep = '\\t', header=None, index_col=0)\n",
    "\n",
    "diab_train_ind = pd.read_csv(data_folder + r'\\CASED_diabetes_indicator\\train.tsv', sep = '\\t', header=None, index_col=0)\n",
    "diab_dev_ind = pd.read_csv(data_folder + r'\\CASED_diabetes_indicator\\dev.tsv', sep = '\\t', header=None, index_col=0)\n",
    "diab_test_ind = pd.read_csv(data_folder + r'\\CASED_diabetes_indicator\\test.tsv', sep = '\\t', header=None, index_col=0)\n",
    "\n",
    "\n",
    "hyperl_train_ind = pd.read_csv(data_folder + r'\\CASED_hyperlipidemia_indicator\\train.tsv', sep = '\\t', header=None, index_col=0)\n",
    "hyperl_dev_ind = pd.read_csv(data_folder + r'\\CASED_hyperlipidemia_indicator\\dev.tsv', sep = '\\t', header=None, index_col=0)\n",
    "hyperl_test_ind = pd.read_csv(data_folder + r'\\CASED_hyperlipidemia_indicator\\test.tsv', sep = '\\t', header=None, index_col=0)\n",
    "\n",
    "hypert_train_ind = pd.read_csv(data_folder + r'\\CASED_hypertension_indicator\\train.tsv', sep = '\\t', header=None, index_col=0)\n",
    "hypert_dev_ind = pd.read_csv(data_folder + r'\\CASED_hypertension_indicator\\dev.tsv', sep = '\\t', header=None, index_col=0)\n",
    "hypert_test_ind = pd.read_csv(data_folder + r'\\CASED_hypertension_indicator\\test.tsv', sep = '\\t', header=None, index_col=0)\n",
    "\n",
    "med_train_ind = pd.read_csv(data_folder + r'\\CASED_medication_type1\\train.tsv', sep = '\\t', header=None, index_col=0)\n",
    "med_dev_ind = pd.read_csv(data_folder + r'\\CASED_medication_type1\\dev.tsv', sep = '\\t', header=None, index_col=0)\n",
    "med_test_ind = pd.read_csv(data_folder + r'\\CASED_medication_type1\\test.tsv', sep = '\\t', header=None, index_col=0)\n",
    "\n",
    "obesity_train_ind = pd.read_csv(data_folder + r'\\CASED_obese_indicator\\train.tsv', sep = '\\t', header=None, index_col=0)\n",
    "obesity_dev_ind = pd.read_csv(data_folder + r'\\CASED_obese_indicator\\dev.tsv', sep = '\\t', header=None, index_col=0)\n",
    "obesity_test_ind = pd.read_csv(data_folder + r'\\CASED_obese_indicator\\test.tsv', sep = '\\t', header=None, index_col=0)\n",
    "\n",
    "smoker_train_ind = pd.read_csv(data_folder + r'\\CASED_smoker_status\\train.tsv', sep = '\\t', header=None, index_col=0)\n",
    "smoker_dev_ind = pd.read_csv(data_folder + r'\\CASED_smoker_status\\dev.tsv', sep = '\\t', header=None, index_col=0)\n",
    "smoker_test_ind = pd.read_csv(data_folder + r'\\CASED_smoker_status\\test.tsv', sep = '\\t', header=None, index_col=0)\n",
    "\n",
    "family_train_ind = pd.read_csv(data_folder + r'\\CASED_family_hist_indicator\\train.tsv', sep = '\\t', header=None, index_col=0)\n",
    "family_dev_ind = pd.read_csv(data_folder + r'\\CASED_family_hist_indicator\\dev.tsv', sep = '\\t', header=None, index_col=0)\n",
    "family_test_ind = pd.read_csv(data_folder + r'\\CASED_family_hist_indicator\\test.tsv', sep = '\\t', header=None, index_col=0)\n",
    "\n",
    "cols  = ['tag', 'scol', 'token']\n",
    "cad_train_ind.columns = cols\n",
    "cad_dev_ind.columns = cols\n",
    "cad_test_ind.columns = [cols[-1]]\n",
    "\n",
    "diab_train_ind.columns = cols\n",
    "diab_dev_ind.columns = cols\n",
    "diab_test_ind.columns = [cols[-1]]\n",
    "\n",
    "hyperl_train_ind.columns = cols\n",
    "hyperl_dev_ind.columns = cols\n",
    "hyperl_test_ind.columns = [cols[-1]]\n",
    "\n",
    "hypert_train_ind.columns = cols\n",
    "hypert_dev_ind.columns = cols\n",
    "hypert_test_ind.columns = [cols[-1]]\n",
    "\n",
    "med_train_ind.columns = cols\n",
    "med_dev_ind.columns = cols\n",
    "med_test_ind.columns = [cols[-1]]\n",
    "\n",
    "obesity_train_ind.columns = cols\n",
    "obesity_dev_ind.columns = cols\n",
    "obesity_test_ind.columns = [cols[-1]]\n",
    "\n",
    "smoker_train_ind.columns = cols\n",
    "smoker_dev_ind.columns = cols\n",
    "smoker_test_ind.columns = [cols[-1]]\n",
    "\n",
    "family_train_ind.columns = cols\n",
    "family_dev_ind.columns = cols\n",
    "family_test_ind.columns = [cols[-1]]"
   ]
  },
  {
   "cell_type": "code",
   "execution_count": 72,
   "metadata": {},
   "outputs": [
    {
     "name": "stdout",
     "output_type": "stream",
     "text": [
      "(535169, 3)\n"
     ]
    }
   ],
   "source": [
    "print (cad_train_ind.shape)"
   ]
  },
  {
   "cell_type": "code",
   "execution_count": 73,
   "metadata": {},
   "outputs": [],
   "source": [
    "pd.set_option('display.max_rows', None)"
   ]
  },
  {
   "cell_type": "code",
   "execution_count": 74,
   "metadata": {},
   "outputs": [
    {
     "data": {
      "text/plain": [
       "tag       0\n",
       "scol      0\n",
       "token    88\n",
       "dtype: int64"
      ]
     },
     "execution_count": 74,
     "metadata": {},
     "output_type": "execute_result"
    }
   ],
   "source": [
    "cad_train_ind.isna().sum()"
   ]
  },
  {
   "cell_type": "markdown",
   "metadata": {},
   "source": [
    "### fill the missing values"
   ]
  },
  {
   "cell_type": "code",
   "execution_count": 75,
   "metadata": {},
   "outputs": [],
   "source": [
    "cad_train_ind.fillna('NA', inplace=True)\n",
    "cad_dev_ind.fillna('NA', inplace=True)\n",
    "cad_test_ind.fillna('NA', inplace=True)\n",
    "\n",
    "diab_train_ind.fillna('NA', inplace=True)\n",
    "diab_dev_ind.fillna('NA', inplace=True)\n",
    "diab_test_ind.fillna('NA', inplace=True)\n",
    "\n",
    "hyperl_train_ind.fillna('NA', inplace=True)\n",
    "hyperl_dev_ind.fillna('NA', inplace=True)\n",
    "hyperl_test_ind.fillna('NA', inplace=True)\n",
    "\n",
    "hypert_train_ind.fillna('NA', inplace=True)\n",
    "hypert_dev_ind.fillna('NA', inplace=True)\n",
    "hypert_test_ind.fillna('NA', inplace=True)\n",
    "\n",
    "med_train_ind.fillna('NA', inplace=True)\n",
    "med_dev_ind.fillna('NA', inplace=True)\n",
    "med_test_ind.fillna('NA', inplace=True)\n",
    "\n",
    "obesity_train_ind.fillna('NA', inplace=True)\n",
    "obesity_dev_ind.fillna('NA', inplace=True)\n",
    "obesity_test_ind.fillna('NA', inplace=True)\n",
    "\n",
    "smoker_train_ind.fillna('NA', inplace=True)\n",
    "smoker_dev_ind.fillna('NA', inplace=True)\n",
    "smoker_test_ind.fillna('NA', inplace=True)\n",
    "\n",
    "family_train_ind.fillna('NA', inplace=True)\n",
    "family_dev_ind.fillna('NA', inplace=True)\n",
    "family_test_ind.fillna('NA', inplace=True)"
   ]
  },
  {
   "cell_type": "markdown",
   "metadata": {},
   "source": [
    "### label maps"
   ]
  },
  {
   "cell_type": "code",
   "execution_count": 76,
   "metadata": {},
   "outputs": [],
   "source": [
    "cad_ind_labelmap = {0:'cad_event', 1:'cad_mention', 2:'cad_symptom', 3:'cad_test', 4:'other'}\n",
    "cad_train_ind['tag'].replace(cad_ind_labelmap, inplace=True)\n",
    "cad_dev_ind['tag'].replace(cad_ind_labelmap, inplace=True)\n",
    "\n",
    "diab_ind_labelmap = {0:'diab_a1c', 1:'diab_glucose', 2:'diab_mention', 3:'other'}\n",
    "diab_train_ind['tag'].replace(diab_ind_labelmap, inplace=True)\n",
    "diab_dev_ind['tag'].replace(diab_ind_labelmap, inplace=True)\n",
    "\n",
    "hyperl_ind_labelmap = {0:'high_ldl', 1:'high_chol', 2:'hyperl_mention', 3:'other'}\n",
    "hyperl_train_ind['tag'].replace(hyperl_ind_labelmap, inplace=True)\n",
    "hyperl_dev_ind['tag'].replace(hyperl_ind_labelmap, inplace=True)\n",
    "\n",
    "hypert_ind_labelmap = {0:'high_bp', 1:'hypert_mention', 2:'other'}\n",
    "hypert_train_ind['tag'].replace(hypert_ind_labelmap, inplace=True)\n",
    "hypert_dev_ind['tag'].replace(hypert_ind_labelmap, inplace=True)\n",
    "\n",
    "med_train_ind_labelmap = {0:'ace_inhibitor', 1:'arb', 2:'dpp4_inhibitor', 3:'glyset', 4:'aspirin', 5:'beta_blocker', 6:'ccb', \\\n",
    "                         7:'diuretic', 8:'ezetimbe', 9: 'fibrate', 10: 'insulin', 11:'metformin', 12:'niacin', 13:'nitrate', \\\n",
    "                         14: 'statin', 15:'sulfonylureas', 16: 'thiazolidinedione', 17: 'thienopyridine', 18: 'other'}\n",
    "med_dev_ind_labelmap = {0:'ace_inhibitor', 1:'arb', 2:'aspirin', 3:'beta_blocker', 4:'ccb', \\\n",
    "                         5:'diuretic', 6:'ezetimbe', 7: 'fibrate', 8: 'insulin', 9:'metformin', 10:'niacin', 11:'nitrate', \\\n",
    "                         12: 'statin', 13:'sulfonylureas', 14: 'thiazolidinedione', 15: 'thienopyridine', 16: 'other'}\n",
    "\n",
    "med_train_ind['tag'].replace(med_train_ind_labelmap, inplace=True)\n",
    "med_dev_ind['tag'].replace(med_dev_ind_labelmap, inplace=True)\n",
    "\n",
    "obesity_ind_labelmap = {0:'bmi', 1:'obesity_mention', 2:'other'}\n",
    "obesity_train_ind['tag'].replace(obesity_ind_labelmap, inplace=True)\n",
    "obesity_dev_ind['tag'].replace(obesity_ind_labelmap, inplace=True)\n",
    "\n",
    "\n",
    "smoker_train_ind_labelmap = {0:'smoke_current', 1:'smoke_ever', 2:'smoke_never', 3:'smoke_past', 4: 'other', 5:'other'}\n",
    "smoker_dev_ind_labelmap = {0:'smoke_current', 1:'smoke_never', 2:'smoke_past', 3: 'other', 4:'other'}\n",
    "\n",
    "smoker_train_ind['tag'].replace(smoker_train_ind_labelmap, inplace=True)\n",
    "smoker_dev_ind['tag'].replace(smoker_dev_ind_labelmap, inplace=True)\n",
    "\n",
    "family_ind_labelmap = {0:'family_hist_hd', 1:'other'}\n",
    "family_train_ind['tag'].replace(family_ind_labelmap, inplace=True)\n",
    "family_dev_ind['tag'].replace(family_ind_labelmap, inplace=True)\n"
   ]
  },
  {
   "cell_type": "code",
   "execution_count": 77,
   "metadata": {},
   "outputs": [],
   "source": [
    "def tagf(tag_list):\n",
    "    ftoken = 'other'\n",
    "    \n",
    "    for tok in tag_list:\n",
    "        if (tok != 'other'):\n",
    "            ftoken = tok\n",
    "    return ftoken"
   ]
  },
  {
   "cell_type": "code",
   "execution_count": 78,
   "metadata": {},
   "outputs": [
    {
     "data": {
      "text/plain": [
       "other             534606\n",
       "hyperl_mention       450\n",
       "high_ldl              83\n",
       "high_chol             30\n",
       "Name: tag, dtype: int64"
      ]
     },
     "execution_count": 78,
     "metadata": {},
     "output_type": "execute_result"
    }
   ],
   "source": [
    "hyperl_train_ind['tag'].value_counts()"
   ]
  },
  {
   "cell_type": "code",
   "execution_count": 79,
   "metadata": {},
   "outputs": [],
   "source": [
    "dataf_train = [cad_train_ind[['token', 'tag']], diab_train_ind['tag'], hyperl_train_ind['tag'], hypert_train_ind['tag'], \\\n",
    "               med_train_ind['tag'], obesity_train_ind['tag'], smoker_train_ind['tag'], family_train_ind['tag']]\n",
    "df_train = reduce(lambda left, right: pd.merge(left, right, left_index=True, right_index=True), dataf_train)\n",
    "\n",
    "dataf_dev = [cad_dev_ind[['token', 'tag']], diab_dev_ind['tag'], hyperl_dev_ind['tag'], hypert_dev_ind['tag'], \\\n",
    "               med_dev_ind['tag'], obesity_dev_ind['tag'], smoker_dev_ind['tag'], family_dev_ind['tag']]\n",
    "df_dev = reduce(lambda left, right: pd.merge(left, right, left_index=True, right_index=True), dataf_dev)\n",
    "\n",
    "cols = ['token', 'tag_cad', 'tag_diab', 'tag_hyperl', 'tag_hypert', 'tag_med', 'tag_obesity', 'tag_smoker', 'tag_family']\n",
    "\n",
    "df_train.columns = cols\n",
    "df_dev.columns =cols\n",
    "\n",
    "df_test = cad_test_ind"
   ]
  },
  {
   "cell_type": "code",
   "execution_count": 80,
   "metadata": {},
   "outputs": [
    {
     "data": {
      "text/html": [
       "<div>\n",
       "<style scoped>\n",
       "    .dataframe tbody tr th:only-of-type {\n",
       "        vertical-align: middle;\n",
       "    }\n",
       "\n",
       "    .dataframe tbody tr th {\n",
       "        vertical-align: top;\n",
       "    }\n",
       "\n",
       "    .dataframe thead th {\n",
       "        text-align: right;\n",
       "    }\n",
       "</style>\n",
       "<table border=\"1\" class=\"dataframe\">\n",
       "  <thead>\n",
       "    <tr style=\"text-align: right;\">\n",
       "      <th></th>\n",
       "      <th>token</th>\n",
       "      <th>tag_cad</th>\n",
       "      <th>tag_diab</th>\n",
       "      <th>tag_hyperl</th>\n",
       "      <th>tag_hypert</th>\n",
       "      <th>tag_med</th>\n",
       "      <th>tag_obesity</th>\n",
       "      <th>tag_smoker</th>\n",
       "      <th>tag_family</th>\n",
       "    </tr>\n",
       "    <tr>\n",
       "      <th>0</th>\n",
       "      <th></th>\n",
       "      <th></th>\n",
       "      <th></th>\n",
       "      <th></th>\n",
       "      <th></th>\n",
       "      <th></th>\n",
       "      <th></th>\n",
       "      <th></th>\n",
       "      <th></th>\n",
       "    </tr>\n",
       "  </thead>\n",
       "  <tbody>\n",
       "    <tr>\n",
       "      <td>0</td>\n",
       "      <td>Record</td>\n",
       "      <td>other</td>\n",
       "      <td>other</td>\n",
       "      <td>other</td>\n",
       "      <td>other</td>\n",
       "      <td>other</td>\n",
       "      <td>other</td>\n",
       "      <td>other</td>\n",
       "      <td>other</td>\n",
       "    </tr>\n",
       "    <tr>\n",
       "      <td>1</td>\n",
       "      <td>date</td>\n",
       "      <td>other</td>\n",
       "      <td>other</td>\n",
       "      <td>other</td>\n",
       "      <td>other</td>\n",
       "      <td>other</td>\n",
       "      <td>other</td>\n",
       "      <td>other</td>\n",
       "      <td>other</td>\n",
       "    </tr>\n",
       "    <tr>\n",
       "      <td>2</td>\n",
       "      <td>:</td>\n",
       "      <td>other</td>\n",
       "      <td>other</td>\n",
       "      <td>other</td>\n",
       "      <td>other</td>\n",
       "      <td>other</td>\n",
       "      <td>other</td>\n",
       "      <td>other</td>\n",
       "      <td>other</td>\n",
       "    </tr>\n",
       "  </tbody>\n",
       "</table>\n",
       "</div>"
      ],
      "text/plain": [
       "    token tag_cad tag_diab tag_hyperl tag_hypert tag_med tag_obesity  \\\n",
       "0                                                                      \n",
       "0  Record   other    other      other      other   other       other   \n",
       "1    date   other    other      other      other   other       other   \n",
       "2       :   other    other      other      other   other       other   \n",
       "\n",
       "  tag_smoker tag_family  \n",
       "0                        \n",
       "0      other      other  \n",
       "1      other      other  \n",
       "2      other      other  "
      ]
     },
     "execution_count": 80,
     "metadata": {},
     "output_type": "execute_result"
    }
   ],
   "source": [
    "df_train.head(3)"
   ]
  },
  {
   "cell_type": "code",
   "execution_count": 81,
   "metadata": {},
   "outputs": [
    {
     "data": {
      "text/html": [
       "<div>\n",
       "<style scoped>\n",
       "    .dataframe tbody tr th:only-of-type {\n",
       "        vertical-align: middle;\n",
       "    }\n",
       "\n",
       "    .dataframe tbody tr th {\n",
       "        vertical-align: top;\n",
       "    }\n",
       "\n",
       "    .dataframe thead th {\n",
       "        text-align: right;\n",
       "    }\n",
       "</style>\n",
       "<table border=\"1\" class=\"dataframe\">\n",
       "  <thead>\n",
       "    <tr style=\"text-align: right;\">\n",
       "      <th></th>\n",
       "      <th>token</th>\n",
       "      <th>tag_cad</th>\n",
       "      <th>tag_diab</th>\n",
       "      <th>tag_hyperl</th>\n",
       "      <th>tag_hypert</th>\n",
       "      <th>tag_med</th>\n",
       "      <th>tag_obesity</th>\n",
       "      <th>tag_smoker</th>\n",
       "      <th>tag_family</th>\n",
       "    </tr>\n",
       "    <tr>\n",
       "      <th>0</th>\n",
       "      <th></th>\n",
       "      <th></th>\n",
       "      <th></th>\n",
       "      <th></th>\n",
       "      <th></th>\n",
       "      <th></th>\n",
       "      <th></th>\n",
       "      <th></th>\n",
       "      <th></th>\n",
       "    </tr>\n",
       "  </thead>\n",
       "  <tbody>\n",
       "    <tr>\n",
       "      <td>0</td>\n",
       "      <td>Record</td>\n",
       "      <td>other</td>\n",
       "      <td>other</td>\n",
       "      <td>other</td>\n",
       "      <td>other</td>\n",
       "      <td>other</td>\n",
       "      <td>other</td>\n",
       "      <td>other</td>\n",
       "      <td>other</td>\n",
       "    </tr>\n",
       "    <tr>\n",
       "      <td>1</td>\n",
       "      <td>date</td>\n",
       "      <td>other</td>\n",
       "      <td>other</td>\n",
       "      <td>other</td>\n",
       "      <td>other</td>\n",
       "      <td>other</td>\n",
       "      <td>other</td>\n",
       "      <td>other</td>\n",
       "      <td>other</td>\n",
       "    </tr>\n",
       "    <tr>\n",
       "      <td>2</td>\n",
       "      <td>:</td>\n",
       "      <td>other</td>\n",
       "      <td>other</td>\n",
       "      <td>other</td>\n",
       "      <td>other</td>\n",
       "      <td>other</td>\n",
       "      <td>other</td>\n",
       "      <td>other</td>\n",
       "      <td>other</td>\n",
       "    </tr>\n",
       "  </tbody>\n",
       "</table>\n",
       "</div>"
      ],
      "text/plain": [
       "    token tag_cad tag_diab tag_hyperl tag_hypert tag_med tag_obesity  \\\n",
       "0                                                                      \n",
       "0  Record   other    other      other      other   other       other   \n",
       "1    date   other    other      other      other   other       other   \n",
       "2       :   other    other      other      other   other       other   \n",
       "\n",
       "  tag_smoker tag_family  \n",
       "0                        \n",
       "0      other      other  \n",
       "1      other      other  \n",
       "2      other      other  "
      ]
     },
     "execution_count": 81,
     "metadata": {},
     "output_type": "execute_result"
    }
   ],
   "source": [
    "df_dev.head(3)"
   ]
  },
  {
   "cell_type": "code",
   "execution_count": 82,
   "metadata": {},
   "outputs": [
    {
     "data": {
      "text/html": [
       "<div>\n",
       "<style scoped>\n",
       "    .dataframe tbody tr th:only-of-type {\n",
       "        vertical-align: middle;\n",
       "    }\n",
       "\n",
       "    .dataframe tbody tr th {\n",
       "        vertical-align: top;\n",
       "    }\n",
       "\n",
       "    .dataframe thead th {\n",
       "        text-align: right;\n",
       "    }\n",
       "</style>\n",
       "<table border=\"1\" class=\"dataframe\">\n",
       "  <thead>\n",
       "    <tr style=\"text-align: right;\">\n",
       "      <th></th>\n",
       "      <th>token</th>\n",
       "    </tr>\n",
       "    <tr>\n",
       "      <th>0</th>\n",
       "      <th></th>\n",
       "    </tr>\n",
       "  </thead>\n",
       "  <tbody>\n",
       "    <tr>\n",
       "      <td>0</td>\n",
       "      <td>Record</td>\n",
       "    </tr>\n",
       "    <tr>\n",
       "      <td>1</td>\n",
       "      <td>date</td>\n",
       "    </tr>\n",
       "    <tr>\n",
       "      <td>2</td>\n",
       "      <td>:</td>\n",
       "    </tr>\n",
       "    <tr>\n",
       "      <td>3</td>\n",
       "      <td>2069-04-07</td>\n",
       "    </tr>\n",
       "    <tr>\n",
       "      <td>4</td>\n",
       "      <td>Mr.</td>\n",
       "    </tr>\n",
       "  </tbody>\n",
       "</table>\n",
       "</div>"
      ],
      "text/plain": [
       "        token\n",
       "0            \n",
       "0      Record\n",
       "1        date\n",
       "2           :\n",
       "3  2069-04-07\n",
       "4         Mr."
      ]
     },
     "execution_count": 82,
     "metadata": {},
     "output_type": "execute_result"
    }
   ],
   "source": [
    "df_test.head()"
   ]
  },
  {
   "cell_type": "code",
   "execution_count": 83,
   "metadata": {},
   "outputs": [],
   "source": [
    "df_train['tag_singlemodel'] = df_train.apply(lambda x: tagf([x.tag_cad, x.tag_diab, x.tag_hyperl, x.tag_hypert, \\\n",
    "                                                        x.tag_med, x.tag_obesity, x.tag_smoker, x.tag_family]), axis=1)\n",
    "df_dev['tag_singlemodel'] = df_dev.apply(lambda x: tagf([x.tag_cad, x.tag_diab, x.tag_hyperl, x.tag_hypert, \\\n",
    "                                                        x.tag_med, x.tag_obesity, x.tag_smoker, x.tag_family]), axis=1)"
   ]
  },
  {
   "cell_type": "code",
   "execution_count": 84,
   "metadata": {},
   "outputs": [
    {
     "data": {
      "text/plain": [
       "(535169, 10)"
      ]
     },
     "execution_count": 84,
     "metadata": {},
     "output_type": "execute_result"
    }
   ],
   "source": [
    "df_train.shape"
   ]
  },
  {
   "cell_type": "code",
   "execution_count": 85,
   "metadata": {},
   "outputs": [
    {
     "data": {
      "text/plain": [
       "(59320, 10)"
      ]
     },
     "execution_count": 85,
     "metadata": {},
     "output_type": "execute_result"
    }
   ],
   "source": [
    "df_dev.shape"
   ]
  },
  {
   "cell_type": "code",
   "execution_count": 86,
   "metadata": {},
   "outputs": [
    {
     "data": {
      "text/plain": [
       "(384304, 1)"
      ]
     },
     "execution_count": 86,
     "metadata": {},
     "output_type": "execute_result"
    }
   ],
   "source": [
    "df_test.shape"
   ]
  },
  {
   "cell_type": "code",
   "execution_count": 87,
   "metadata": {},
   "outputs": [],
   "source": [
    "df_train['tag_singlemodel'].replace({'other':'O'}, inplace=True)\n",
    "df_dev['tag_singlemodel'].replace({'other':'O'}, inplace=True)"
   ]
  },
  {
   "cell_type": "code",
   "execution_count": 88,
   "metadata": {
    "scrolled": true
   },
   "outputs": [
    {
     "data": {
      "text/plain": [
       "O                    517484\n",
       "cad_test               2007\n",
       "cad_event              1654\n",
       "diab_mention           1446\n",
       "high_bp                1280\n",
       "smoke_past              961\n",
       "insulin                 871\n",
       "hypert_mention          867\n",
       "beta_blocker            848\n",
       "cad_mention             827\n",
       "aspirin                 715\n",
       "statin                  651\n",
       "diab_a1c                633\n",
       "ace_inhibitor           544\n",
       "smoke_never             533\n",
       "hyperl_mention          450\n",
       "cad_symptom             409\n",
       "smoke_current           338\n",
       "nitrate                 282\n",
       "family_hist_hd          272\n",
       "ccb                     271\n",
       "metformin               268\n",
       "obesity_mention         256\n",
       "sulfonylureas           223\n",
       "diab_glucose            219\n",
       "diuretic                205\n",
       "thienopyridine          177\n",
       "arb                     155\n",
       "high_ldl                 83\n",
       "thiazolidinedione        51\n",
       "smoke_ever               48\n",
       "bmi                      43\n",
       "fibrate                  41\n",
       "high_chol                30\n",
       "ezetimbe                 14\n",
       "niacin                   10\n",
       "dpp4_inhibitor            2\n",
       "glyset                    1\n",
       "Name: tag_singlemodel, dtype: int64"
      ]
     },
     "execution_count": 88,
     "metadata": {},
     "output_type": "execute_result"
    }
   ],
   "source": [
    "df_train['tag_singlemodel'].value_counts()"
   ]
  },
  {
   "cell_type": "code",
   "execution_count": 89,
   "metadata": {},
   "outputs": [
    {
     "data": {
      "text/plain": [
       "O                    57051\n",
       "cad_event              235\n",
       "cad_test               234\n",
       "diab_mention           190\n",
       "high_bp                188\n",
       "beta_blocker           145\n",
       "smoke_past             117\n",
       "insulin                117\n",
       "hypert_mention         111\n",
       "diab_a1c                98\n",
       "aspirin                 97\n",
       "statin                  95\n",
       "cad_mention             94\n",
       "ace_inhibitor           83\n",
       "smoke_never             64\n",
       "hyperl_mention          55\n",
       "nitrate                 53\n",
       "metformin               36\n",
       "sulfonylureas           34\n",
       "smoke_current           34\n",
       "obesity_mention         26\n",
       "ccb                     25\n",
       "high_ldl                20\n",
       "diuretic                19\n",
       "cad_symptom             15\n",
       "family_hist_hd          15\n",
       "thienopyridine          15\n",
       "arb                     14\n",
       "thiazolidinedione       12\n",
       "diab_glucose             9\n",
       "high_chol                7\n",
       "bmi                      7\n",
       "niacin                   2\n",
       "fibrate                  2\n",
       "ezetimbe                 1\n",
       "Name: tag_singlemodel, dtype: int64"
      ]
     },
     "execution_count": 89,
     "metadata": {},
     "output_type": "execute_result"
    }
   ],
   "source": [
    "df_dev['tag_singlemodel'].value_counts()"
   ]
  },
  {
   "cell_type": "code",
   "execution_count": 90,
   "metadata": {},
   "outputs": [],
   "source": [
    "train_tag_list = df_train['tag_singlemodel'].to_list()\n",
    "train_token_list = df_train['token'].to_list()\n",
    "\n",
    "dev_tag_list = df_dev['tag_singlemodel'].to_list()\n",
    "dev_token_list = df_dev['token'].to_list()\n",
    "\n",
    "test_token_list = df_test['token'].to_list()"
   ]
  },
  {
   "cell_type": "code",
   "execution_count": 91,
   "metadata": {},
   "outputs": [],
   "source": [
    "def mod_traindev(tagl, tokenl):\n",
    "    el = []\n",
    "    for tag, token in zip(tagl, tokenl):\n",
    "        el.append([token, tag])\n",
    "        if(token == '.'):\n",
    "            el.append([])\n",
    "    return el"
   ]
  },
  {
   "cell_type": "code",
   "execution_count": 94,
   "metadata": {},
   "outputs": [],
   "source": [
    "def mod_test(tokenl):\n",
    "    el = []\n",
    "    for token in tokenl:\n",
    "        el.append([token])\n",
    "        if (token == '.'):\n",
    "            el.append([])\n",
    "    return el"
   ]
  },
  {
   "cell_type": "markdown",
   "metadata": {},
   "source": [
    "### adding blank spaces or line after tokens '.'"
   ]
  },
  {
   "cell_type": "code",
   "execution_count": 96,
   "metadata": {},
   "outputs": [],
   "source": [
    "train_lol = mod_traindev(train_tag_list, train_token_list)\n",
    "dev_lol = mod_traindev(dev_tag_list, dev_token_list)\n",
    "test_lol = mod_test(test_token_list)"
   ]
  },
  {
   "cell_type": "code",
   "execution_count": 101,
   "metadata": {},
   "outputs": [],
   "source": [
    "df_trainf = pd.DataFrame(train_lol, columns = ['token', 'tagf'])\n",
    "df_devf = pd.DataFrame(dev_lol, columns = ['token', 'tagf'])\n",
    "df_testf = pd.DataFrame(test_lol, columns = ['token'])"
   ]
  },
  {
   "cell_type": "code",
   "execution_count": 103,
   "metadata": {},
   "outputs": [
    {
     "name": "stdout",
     "output_type": "stream",
     "text": [
      "(564962, 2)\n",
      "(62527, 2)\n",
      "(406336, 1)\n"
     ]
    }
   ],
   "source": [
    "print (df_trainf.shape)\n",
    "print (df_devf.shape)\n",
    "print (df_testf.shape)"
   ]
  },
  {
   "cell_type": "code",
   "execution_count": 104,
   "metadata": {},
   "outputs": [
    {
     "data": {
      "text/plain": [
       "token    29793\n",
       "tagf     29793\n",
       "dtype: int64"
      ]
     },
     "execution_count": 104,
     "metadata": {},
     "output_type": "execute_result"
    }
   ],
   "source": [
    "df_trainf.isna().sum()"
   ]
  },
  {
   "cell_type": "code",
   "execution_count": 105,
   "metadata": {},
   "outputs": [
    {
     "data": {
      "text/plain": [
       "token    3207\n",
       "tagf     3207\n",
       "dtype: int64"
      ]
     },
     "execution_count": 105,
     "metadata": {},
     "output_type": "execute_result"
    }
   ],
   "source": [
    "df_devf.isna().sum()"
   ]
  },
  {
   "cell_type": "code",
   "execution_count": 106,
   "metadata": {},
   "outputs": [
    {
     "data": {
      "text/plain": [
       "token    22032\n",
       "dtype: int64"
      ]
     },
     "execution_count": 106,
     "metadata": {},
     "output_type": "execute_result"
    }
   ],
   "source": [
    "df_testf.isna().sum()"
   ]
  },
  {
   "cell_type": "code",
   "execution_count": 107,
   "metadata": {},
   "outputs": [],
   "source": [
    "df_trainf.to_csv('data/training/s1/train.txt', index=False, sep = '\\t', header=None)\n",
    "df_devf.to_csv('data/training/s1/dev.txt', index=False, sep = '\\t', header=None)\n",
    "df_testf.to_csv('data/training/s1/test.txt', index=False, sep = '\\t', header=None)"
   ]
  },
  {
   "cell_type": "code",
   "execution_count": 2,
   "metadata": {},
   "outputs": [],
   "source": [
    "# train = pd.read_csv(r'D:\\FloridaBlue\\hd-risk\\heart-disease-risk-prediction-master\\Code\\Single_Model_DataFiles\\train.tsv', index_col = 0, sep = '\\t', header=None)\n",
    "# dev = pd.read_csv(r'D:\\FloridaBlue\\hd-risk\\heart-disease-risk-prediction-master\\Code\\Single_Model_DataFiles\\dev.tsv', index_col = 0, sep = '\\t', header=None)\n",
    "# test = pd.read_csv(r'D:\\FloridaBlue\\hd-risk\\heart-disease-risk-prediction-master\\Code\\Single_Model_DataFiles\\test.tsv', index_col = 0, sep = '\\t', header=None)\n",
    "# cols = ['tag', 'scol', 'token']\n",
    "# train.columns = cols\n",
    "# dev.columns = cols\n",
    "\n",
    "# test.columns = ['token']"
   ]
  },
  {
   "cell_type": "code",
   "execution_count": 3,
   "metadata": {},
   "outputs": [],
   "source": [
    "# print (train.shape)\n",
    "# print (test.shape)\n",
    "# print (dev.shape)"
   ]
  },
  {
   "cell_type": "code",
   "execution_count": 4,
   "metadata": {},
   "outputs": [],
   "source": [
    "# test.head()"
   ]
  },
  {
   "cell_type": "code",
   "execution_count": 5,
   "metadata": {},
   "outputs": [],
   "source": [
    "# train.head()"
   ]
  },
  {
   "cell_type": "code",
   "execution_count": 6,
   "metadata": {},
   "outputs": [],
   "source": [
    "# train['token'].fillna('NA', inplace=True)\n",
    "# dev['token'].fillna('NA', inplace=True)\n",
    "# test['token'].fillna('NA', inplace=True)"
   ]
  },
  {
   "cell_type": "code",
   "execution_count": 7,
   "metadata": {},
   "outputs": [],
   "source": [
    "# train_tag_list = train['tag'].to_list()\n",
    "# train_token_list = train['token'].to_list()\n",
    "\n",
    "# dev_tag_list = dev['tag'].to_list()\n",
    "# dev_token_list = dev['token'].to_list()\n",
    "\n",
    "# test_token_list = test['token'].to_list()"
   ]
  },
  {
   "cell_type": "code",
   "execution_count": 8,
   "metadata": {},
   "outputs": [],
   "source": [
    "# def mod_df(tagl, tokenl):\n",
    "#     el = []\n",
    "#     for tag,token in zip(tagl,tokenl):\n",
    "#         el.append([token,tag])\n",
    "#         if (token == '.'):\n",
    "#             el.append([])\n",
    "#     return el"
   ]
  },
  {
   "cell_type": "code",
   "execution_count": 35,
   "metadata": {},
   "outputs": [],
   "source": [
    "def mod_df2(tokenl):\n",
    "    el = []\n",
    "    for token in tokenl:\n",
    "        el.append([token])\n",
    "        if (token == '.'):\n",
    "            el.append([])\n",
    "    return el"
   ]
  },
  {
   "cell_type": "code",
   "execution_count": 36,
   "metadata": {},
   "outputs": [],
   "source": [
    "train_lol = mod_df(train_tag_list, train_token_list)\n",
    "dev_lol = mod_df(dev_tag_list, dev_token_list)\n",
    "test_lol = mod_df2(test_token_list)"
   ]
  },
  {
   "cell_type": "code",
   "execution_count": 40,
   "metadata": {},
   "outputs": [],
   "source": [
    "train_df = pd.DataFrame(train_lol,columns = ['token', 'tag'])\n",
    "dev_df = pd.DataFrame(dev_lol, columns = ['token', 'tag'])\n",
    "test_df = pd.DataFrame(test_lol, columns = ['token'])"
   ]
  },
  {
   "cell_type": "code",
   "execution_count": 41,
   "metadata": {},
   "outputs": [
    {
     "data": {
      "text/html": [
       "<div>\n",
       "<style scoped>\n",
       "    .dataframe tbody tr th:only-of-type {\n",
       "        vertical-align: middle;\n",
       "    }\n",
       "\n",
       "    .dataframe tbody tr th {\n",
       "        vertical-align: top;\n",
       "    }\n",
       "\n",
       "    .dataframe thead th {\n",
       "        text-align: right;\n",
       "    }\n",
       "</style>\n",
       "<table border=\"1\" class=\"dataframe\">\n",
       "  <thead>\n",
       "    <tr style=\"text-align: right;\">\n",
       "      <th></th>\n",
       "      <th>token</th>\n",
       "      <th>tag</th>\n",
       "    </tr>\n",
       "  </thead>\n",
       "  <tbody>\n",
       "    <tr>\n",
       "      <td>0</td>\n",
       "      <td>record</td>\n",
       "      <td>71.0</td>\n",
       "    </tr>\n",
       "    <tr>\n",
       "      <td>1</td>\n",
       "      <td>date</td>\n",
       "      <td>71.0</td>\n",
       "    </tr>\n",
       "    <tr>\n",
       "      <td>2</td>\n",
       "      <td>:</td>\n",
       "      <td>71.0</td>\n",
       "    </tr>\n",
       "    <tr>\n",
       "      <td>3</td>\n",
       "      <td>2104-01-30</td>\n",
       "      <td>71.0</td>\n",
       "    </tr>\n",
       "    <tr>\n",
       "      <td>4</td>\n",
       "      <td>neurology</td>\n",
       "      <td>71.0</td>\n",
       "    </tr>\n",
       "  </tbody>\n",
       "</table>\n",
       "</div>"
      ],
      "text/plain": [
       "        token   tag\n",
       "0      record  71.0\n",
       "1        date  71.0\n",
       "2           :  71.0\n",
       "3  2104-01-30  71.0\n",
       "4   neurology  71.0"
      ]
     },
     "execution_count": 41,
     "metadata": {},
     "output_type": "execute_result"
    }
   ],
   "source": [
    "dev_df.head()"
   ]
  },
  {
   "cell_type": "code",
   "execution_count": 42,
   "metadata": {},
   "outputs": [
    {
     "data": {
      "text/html": [
       "<div>\n",
       "<style scoped>\n",
       "    .dataframe tbody tr th:only-of-type {\n",
       "        vertical-align: middle;\n",
       "    }\n",
       "\n",
       "    .dataframe tbody tr th {\n",
       "        vertical-align: top;\n",
       "    }\n",
       "\n",
       "    .dataframe thead th {\n",
       "        text-align: right;\n",
       "    }\n",
       "</style>\n",
       "<table border=\"1\" class=\"dataframe\">\n",
       "  <thead>\n",
       "    <tr style=\"text-align: right;\">\n",
       "      <th></th>\n",
       "      <th>token</th>\n",
       "      <th>tag</th>\n",
       "    </tr>\n",
       "  </thead>\n",
       "  <tbody>\n",
       "    <tr>\n",
       "      <td>0</td>\n",
       "      <td>record</td>\n",
       "      <td>91.0</td>\n",
       "    </tr>\n",
       "    <tr>\n",
       "      <td>1</td>\n",
       "      <td>date</td>\n",
       "      <td>91.0</td>\n",
       "    </tr>\n",
       "    <tr>\n",
       "      <td>2</td>\n",
       "      <td>:</td>\n",
       "      <td>91.0</td>\n",
       "    </tr>\n",
       "    <tr>\n",
       "      <td>3</td>\n",
       "      <td>2067-11-24</td>\n",
       "      <td>91.0</td>\n",
       "    </tr>\n",
       "    <tr>\n",
       "      <td>4</td>\n",
       "      <td>huntington</td>\n",
       "      <td>91.0</td>\n",
       "    </tr>\n",
       "  </tbody>\n",
       "</table>\n",
       "</div>"
      ],
      "text/plain": [
       "        token   tag\n",
       "0      record  91.0\n",
       "1        date  91.0\n",
       "2           :  91.0\n",
       "3  2067-11-24  91.0\n",
       "4  huntington  91.0"
      ]
     },
     "execution_count": 42,
     "metadata": {},
     "output_type": "execute_result"
    }
   ],
   "source": [
    "train_df.head()"
   ]
  },
  {
   "cell_type": "code",
   "execution_count": 43,
   "metadata": {},
   "outputs": [
    {
     "data": {
      "text/html": [
       "<div>\n",
       "<style scoped>\n",
       "    .dataframe tbody tr th:only-of-type {\n",
       "        vertical-align: middle;\n",
       "    }\n",
       "\n",
       "    .dataframe tbody tr th {\n",
       "        vertical-align: top;\n",
       "    }\n",
       "\n",
       "    .dataframe thead th {\n",
       "        text-align: right;\n",
       "    }\n",
       "</style>\n",
       "<table border=\"1\" class=\"dataframe\">\n",
       "  <thead>\n",
       "    <tr style=\"text-align: right;\">\n",
       "      <th></th>\n",
       "      <th>token</th>\n",
       "    </tr>\n",
       "  </thead>\n",
       "  <tbody>\n",
       "    <tr>\n",
       "      <td>0</td>\n",
       "      <td>record</td>\n",
       "    </tr>\n",
       "    <tr>\n",
       "      <td>1</td>\n",
       "      <td>date</td>\n",
       "    </tr>\n",
       "    <tr>\n",
       "      <td>2</td>\n",
       "      <td>:</td>\n",
       "    </tr>\n",
       "    <tr>\n",
       "      <td>3</td>\n",
       "      <td>2069-04-07</td>\n",
       "    </tr>\n",
       "    <tr>\n",
       "      <td>4</td>\n",
       "      <td>mr.</td>\n",
       "    </tr>\n",
       "  </tbody>\n",
       "</table>\n",
       "</div>"
      ],
      "text/plain": [
       "        token\n",
       "0      record\n",
       "1        date\n",
       "2           :\n",
       "3  2069-04-07\n",
       "4         mr."
      ]
     },
     "execution_count": 43,
     "metadata": {},
     "output_type": "execute_result"
    }
   ],
   "source": [
    "test_df.head()"
   ]
  },
  {
   "cell_type": "code",
   "execution_count": 44,
   "metadata": {},
   "outputs": [],
   "source": [
    "pd.set_option('max_rows',None)"
   ]
  },
  {
   "cell_type": "code",
   "execution_count": 46,
   "metadata": {},
   "outputs": [
    {
     "data": {
      "text/plain": [
       "token    2837\n",
       "tag      2837\n",
       "dtype: int64"
      ]
     },
     "execution_count": 46,
     "metadata": {},
     "output_type": "execute_result"
    }
   ],
   "source": [
    "dev_df.isna().sum()"
   ]
  },
  {
   "cell_type": "code",
   "execution_count": 47,
   "metadata": {},
   "outputs": [
    {
     "data": {
      "text/plain": [
       "token    26930\n",
       "tag      26930\n",
       "dtype: int64"
      ]
     },
     "execution_count": 47,
     "metadata": {},
     "output_type": "execute_result"
    }
   ],
   "source": [
    "train_df.isna().sum()"
   ]
  },
  {
   "cell_type": "code",
   "execution_count": 48,
   "metadata": {},
   "outputs": [
    {
     "data": {
      "text/plain": [
       "token    19681\n",
       "dtype: int64"
      ]
     },
     "execution_count": 48,
     "metadata": {},
     "output_type": "execute_result"
    }
   ],
   "source": [
    "test_df.isna().sum()"
   ]
  },
  {
   "cell_type": "code",
   "execution_count": 12,
   "metadata": {},
   "outputs": [
    {
     "data": {
      "text/plain": [
       "0    91.0\n",
       "1    91.0\n",
       "2    91.0\n",
       "3    91.0\n",
       "4    91.0\n",
       "Name: tag, dtype: float64"
      ]
     },
     "execution_count": 12,
     "metadata": {},
     "output_type": "execute_result"
    }
   ],
   "source": [
    "train_df['tag'].head()"
   ]
  },
  {
   "cell_type": "code",
   "execution_count": 13,
   "metadata": {},
   "outputs": [
    {
     "data": {
      "text/plain": [
       "91.0    514358\n",
       "8.0       1860\n",
       "1.0       1540\n",
       "25.0      1120\n",
       "89.0       961\n",
       "16.0       718\n",
       "28.0       712\n",
       "15.0       676\n",
       "57.0       664\n",
       "40.0       655\n",
       "3.0        636\n",
       "41.0       621\n",
       "10.0       551\n",
       "88.0       533\n",
       "68.0       532\n",
       "31.0       448\n",
       "86.0       338\n",
       "6.0        331\n",
       "17.0       272\n",
       "90.0       269\n",
       "83.0       234\n",
       "22.0       226\n",
       "23.0       218\n",
       "60.0       218\n",
       "46.0       217\n",
       "71.0       178\n",
       "4.0        173\n",
       "48.0       160\n",
       "24.0       160\n",
       "42.0       159\n",
       "12.0       158\n",
       "9.0        147\n",
       "27.0       137\n",
       "35.0       135\n",
       "65.0       135\n",
       "58.0       131\n",
       "80.0       131\n",
       "69.0       111\n",
       "2.0         99\n",
       "11.0        82\n",
       "67.0        82\n",
       "7.0         78\n",
       "59.0        76\n",
       "43.0        68\n",
       "66.0        65\n",
       "13.0        61\n",
       "19.0        57\n",
       "14.0        52\n",
       "76.0        50\n",
       "30.0        49\n",
       "87.0        48\n",
       "45.0        48\n",
       "61.0        40\n",
       "29.0        37\n",
       "82.0        37\n",
       "72.0        36\n",
       "79.0        36\n",
       "39.0        33\n",
       "18.0        30\n",
       "49.0        29\n",
       "54.0        28\n",
       "38.0        27\n",
       "20.0        26\n",
       "5.0         18\n",
       "26.0        18\n",
       "85.0        17\n",
       "0.0         15\n",
       "36.0        15\n",
       "47.0        14\n",
       "52.0        13\n",
       "78.0        10\n",
       "62.0        10\n",
       "32.0         9\n",
       "70.0         8\n",
       "55.0         7\n",
       "64.0         7\n",
       "44.0         6\n",
       "56.0         6\n",
       "81.0         6\n",
       "73.0         6\n",
       "37.0         5\n",
       "21.0         4\n",
       "63.0         3\n",
       "74.0         2\n",
       "51.0         2\n",
       "50.0         2\n",
       "75.0         1\n",
       "77.0         1\n",
       "84.0         1\n",
       "34.0         1\n",
       "33.0         1\n",
       "53.0         1\n",
       "Name: tag, dtype: int64"
      ]
     },
     "execution_count": 13,
     "metadata": {},
     "output_type": "execute_result"
    }
   ],
   "source": [
    "train_df['tag'].value_counts()"
   ]
  },
  {
   "cell_type": "code",
   "execution_count": 14,
   "metadata": {},
   "outputs": [
    {
     "data": {
      "text/html": [
       "<div>\n",
       "<style scoped>\n",
       "    .dataframe tbody tr th:only-of-type {\n",
       "        vertical-align: middle;\n",
       "    }\n",
       "\n",
       "    .dataframe tbody tr th {\n",
       "        vertical-align: top;\n",
       "    }\n",
       "\n",
       "    .dataframe thead th {\n",
       "        text-align: right;\n",
       "    }\n",
       "</style>\n",
       "<table border=\"1\" class=\"dataframe\">\n",
       "  <thead>\n",
       "    <tr style=\"text-align: right;\">\n",
       "      <th></th>\n",
       "      <th>token</th>\n",
       "      <th>tag</th>\n",
       "    </tr>\n",
       "  </thead>\n",
       "  <tbody>\n",
       "    <tr>\n",
       "      <td>0</td>\n",
       "      <td>record</td>\n",
       "      <td>71.0</td>\n",
       "    </tr>\n",
       "    <tr>\n",
       "      <td>1</td>\n",
       "      <td>date</td>\n",
       "      <td>71.0</td>\n",
       "    </tr>\n",
       "    <tr>\n",
       "      <td>2</td>\n",
       "      <td>:</td>\n",
       "      <td>71.0</td>\n",
       "    </tr>\n",
       "    <tr>\n",
       "      <td>3</td>\n",
       "      <td>2067-11-24</td>\n",
       "      <td>71.0</td>\n",
       "    </tr>\n",
       "    <tr>\n",
       "      <td>4</td>\n",
       "      <td>huntington</td>\n",
       "      <td>71.0</td>\n",
       "    </tr>\n",
       "  </tbody>\n",
       "</table>\n",
       "</div>"
      ],
      "text/plain": [
       "        token   tag\n",
       "0      record  71.0\n",
       "1        date  71.0\n",
       "2           :  71.0\n",
       "3  2067-11-24  71.0\n",
       "4  huntington  71.0"
      ]
     },
     "execution_count": 14,
     "metadata": {},
     "output_type": "execute_result"
    }
   ],
   "source": [
    "dev_df.head()"
   ]
  },
  {
   "cell_type": "code",
   "execution_count": 15,
   "metadata": {},
   "outputs": [
    {
     "data": {
      "text/plain": [
       "71.0    56655\n",
       "8.0       217\n",
       "1.0       203\n",
       "24.0      151\n",
       "36.0      122\n",
       "69.0      117\n",
       "27.0      102\n",
       "14.0       96\n",
       "35.0       92\n",
       "10.0       88\n",
       "15.0       88\n",
       "47.0       86\n",
       "3.0        81\n",
       "56.0       65\n",
       "68.0       64\n",
       "30.0       42\n",
       "23.0       37\n",
       "21.0       36\n",
       "67.0       34\n",
       "58.0       31\n",
       "57.0       30\n",
       "50.0       27\n",
       "2.0        26\n",
       "70.0       26\n",
       "31.0       26\n",
       "53.0       25\n",
       "65.0       24\n",
       "55.0       24\n",
       "40.0       23\n",
       "22.0       19\n",
       "49.0       18\n",
       "9.0        17\n",
       "19.0       16\n",
       "16.0       15\n",
       "32.0       14\n",
       "48.0       13\n",
       "42.0       13\n",
       "63.0       12\n",
       "38.0       12\n",
       "28.0       12\n",
       "4.0        11\n",
       "37.0       11\n",
       "11.0       10\n",
       "60.0       10\n",
       "12.0        9\n",
       "51.0        9\n",
       "6.0         9\n",
       "26.0        8\n",
       "64.0        7\n",
       "13.0        6\n",
       "0.0         6\n",
       "7.0         6\n",
       "17.0        5\n",
       "41.0        4\n",
       "54.0        4\n",
       "20.0        4\n",
       "62.0        3\n",
       "33.0        3\n",
       "29.0        3\n",
       "59.0        3\n",
       "61.0        2\n",
       "43.0        2\n",
       "5.0         2\n",
       "66.0        2\n",
       "18.0        2\n",
       "34.0        2\n",
       "52.0        2\n",
       "39.0        2\n",
       "44.0        1\n",
       "25.0        1\n",
       "45.0        1\n",
       "46.0        1\n",
       "Name: tag, dtype: int64"
      ]
     },
     "execution_count": 15,
     "metadata": {},
     "output_type": "execute_result"
    }
   ],
   "source": [
    "dev_df['tag'].value_counts()"
   ]
  },
  {
   "cell_type": "code",
   "execution_count": 16,
   "metadata": {},
   "outputs": [],
   "source": [
    "# train.iloc[0:10000][['token', 'tag']].to_csv('data/small_s1/train.txt', sep = '\\t', index = False,header = None)\n",
    "# dev.iloc[0:1000][['token', 'tag']].to_csv('data/small_s1/dev.txt', sep = '\\t', index = False,header = None)"
   ]
  },
  {
   "cell_type": "code",
   "execution_count": 17,
   "metadata": {},
   "outputs": [],
   "source": [
    "# train_df.to_csv('data/s1/train.txt', sep = '\\t', index = False, header = True)\n",
    "# dev_df.to_csv('data/s1/dev.txt', sep = '\\t', index = False, header = True)"
   ]
  },
  {
   "cell_type": "code",
   "execution_count": 18,
   "metadata": {},
   "outputs": [
    {
     "name": "stdout",
     "output_type": "stream",
     "text": [
      "2021-06-15 17:45:53,821 Reading data from data\\s1\n",
      "2021-06-15 17:45:53,823 Train: data\\s1\\train.txt\n",
      "2021-06-15 17:45:53,823 Dev: data\\s1\\dev.txt\n",
      "2021-06-15 17:45:53,823 Test: None\n"
     ]
    }
   ],
   "source": [
    "from flair.data import Corpus\n",
    "from flair.datasets import ColumnCorpus\n",
    "\n",
    "columns = {0: 'text', 1: 'ner'}\n",
    "\n",
    "# this is the folder in which train, test and dev files reside\n",
    "data_folder = r'data/s1'\n",
    "\n",
    "# init a corpus using column format, data folder and the names of the train, dev and test files\n",
    "corpus: Corpus = ColumnCorpus(data_folder, columns, train_file='train.txt', dev_file='dev.txt')"
   ]
  },
  {
   "cell_type": "code",
   "execution_count": 19,
   "metadata": {},
   "outputs": [
    {
     "name": "stdout",
     "output_type": "stream",
     "text": [
      "24237\n"
     ]
    }
   ],
   "source": [
    "print (len(corpus.train))"
   ]
  },
  {
   "cell_type": "code",
   "execution_count": 20,
   "metadata": {},
   "outputs": [
    {
     "name": "stdout",
     "output_type": "stream",
     "text": [
      "3169\n"
     ]
    }
   ],
   "source": [
    "print (len(corpus.dev))"
   ]
  },
  {
   "cell_type": "code",
   "execution_count": null,
   "metadata": {},
   "outputs": [],
   "source": []
  }
 ],
 "metadata": {
  "kernelspec": {
   "display_name": "Python 3",
   "language": "python",
   "name": "python3"
  },
  "language_info": {
   "codemirror_mode": {
    "name": "ipython",
    "version": 3
   },
   "file_extension": ".py",
   "mimetype": "text/x-python",
   "name": "python",
   "nbconvert_exporter": "python",
   "pygments_lexer": "ipython3",
   "version": "3.6.9"
  }
 },
 "nbformat": 4,
 "nbformat_minor": 2
}
