{
 "cells": [
  {
   "cell_type": "markdown",
   "metadata": {},
   "source": [
    "# Training Flair on BioScope Dataset"
   ]
  },
  {
   "cell_type": "code",
   "execution_count": 1,
   "metadata": {},
   "outputs": [],
   "source": [
    "import re"
   ]
  },
  {
   "cell_type": "code",
   "execution_count": 2,
   "metadata": {},
   "outputs": [],
   "source": [
    "# from Text_Preprocessing import lower_case,html_parser,replace_contractions\n",
    "# from Text_Preprocessing import remove_special, remove_stopwords, word_stem"
   ]
  },
  {
   "cell_type": "code",
   "execution_count": 3,
   "metadata": {},
   "outputs": [
    {
     "name": "stdout",
     "output_type": "stream",
     "text": [
      "2020-10-20 15:28:42,648 Reading data from D:\\FloridaBlue\\Flair\\Negation\\Flairv0.6\\data\\data_speconly\n",
      "2020-10-20 15:28:42,649 Train: D:\\FloridaBlue\\Flair\\Negation\\Flairv0.6\\data\\data_speconly\\train_data_spec.txt\n",
      "2020-10-20 15:28:42,650 Dev: D:\\FloridaBlue\\Flair\\Negation\\Flairv0.6\\data\\data_speconly\\dev_data_spec.txt\n",
      "2020-10-20 15:28:42,650 Test: D:\\FloridaBlue\\Flair\\Negation\\Flairv0.6\\data\\data_speconly\\test_data_spec.txt\n"
     ]
    }
   ],
   "source": [
    "from flair.data import Corpus\n",
    "from flair.datasets import ColumnCorpus\n",
    "\n",
    "columns = {0: 'text', 1: 'ner'}\n",
    "\n",
    "# this is the folder in which train, test and dev files reside\n",
    "data_folder = 'D:/FloridaBlue/Flair/Negation/Flairv0.6/data/data_speconly'\n",
    "\n",
    "# init a corpus using column format, data folder and the names of the train, dev and test files\n",
    "corpus: Corpus = ColumnCorpus(data_folder, columns,\n",
    "                              train_file='train_data_spec.txt',\n",
    "                              test_file='test_data_spec.txt',\n",
    "                              dev_file='dev_data_spec.txt')"
   ]
  },
  {
   "cell_type": "code",
   "execution_count": 4,
   "metadata": {},
   "outputs": [],
   "source": [
    "tag_type = 'ner'\n",
    "tag_dictionary = corpus.make_tag_dictionary(tag_type=tag_type)\n",
    "\n",
    "from flair.embeddings import TokenEmbeddings, WordEmbeddings, StackedEmbeddings, FlairEmbeddings, ELMoEmbeddings\n",
    "from flair.embeddings import TransformerWordEmbeddings\n",
    "\n",
    "#biodisbert_embeddings = TransformerWordEmbeddings('embeddings/pretrained_bert_tf/biobert-base-discharge-cased')\n",
    "\n",
    "from typing import List\n",
    "embedding_types: List[TokenEmbeddings] = [\n",
    "    FlairEmbeddings('pubmed-forward'),\n",
    "    FlairEmbeddings('pubmed-backward'),\n",
    "    WordEmbeddings('pubmed'),\n",
    "    #biodisbert_embeddings,\n",
    "]\n",
    "embeddings: StackedEmbeddings = StackedEmbeddings(embeddings=embedding_types)"
   ]
  },
  {
   "cell_type": "code",
   "execution_count": 5,
   "metadata": {},
   "outputs": [],
   "source": [
    "from flair.models import SequenceTagger\n",
    "\n",
    "tagger: SequenceTagger = SequenceTagger(hidden_size=256,\n",
    "                                        embeddings=embeddings,\n",
    "                                        tag_dictionary=tag_dictionary,\n",
    "                                        tag_type=tag_type,\n",
    "                                        use_crf=True)\n",
    "#  initialize trainer\n",
    "from flair.trainers import ModelTrainer\n",
    "\n",
    "trainer: ModelTrainer = ModelTrainer(tagger, corpus)"
   ]
  },
  {
   "cell_type": "code",
   "execution_count": null,
   "metadata": {},
   "outputs": [
    {
     "name": "stdout",
     "output_type": "stream",
     "text": [
      "2020-10-20 15:29:40,892 ----------------------------------------------------------------------------------------------------\n",
      "2020-10-20 15:29:40,893 Model: \"SequenceTagger(\n",
      "  (embeddings): StackedEmbeddings(\n",
      "    (list_embedding_0): FlairEmbeddings(\n",
      "      (lm): LanguageModel(\n",
      "        (drop): Dropout(p=0.1, inplace=False)\n",
      "        (encoder): Embedding(275, 100)\n",
      "        (rnn): LSTM(100, 2048)\n",
      "        (decoder): Linear(in_features=2048, out_features=275, bias=True)\n",
      "      )\n",
      "    )\n",
      "    (list_embedding_1): FlairEmbeddings(\n",
      "      (lm): LanguageModel(\n",
      "        (drop): Dropout(p=0.1, inplace=False)\n",
      "        (encoder): Embedding(275, 100)\n",
      "        (rnn): LSTM(100, 2048)\n",
      "        (decoder): Linear(in_features=2048, out_features=275, bias=True)\n",
      "      )\n",
      "    )\n",
      "    (list_embedding_2): WordEmbeddings('pubmed')\n",
      "  )\n",
      "  (word_dropout): WordDropout(p=0.05)\n",
      "  (locked_dropout): LockedDropout(p=0.5)\n",
      "  (embedding2nn): Linear(in_features=4296, out_features=4296, bias=True)\n",
      "  (rnn): LSTM(4296, 256, batch_first=True, bidirectional=True)\n",
      "  (linear): Linear(in_features=512, out_features=6, bias=True)\n",
      "  (beta): 1.0\n",
      "  (weights): None\n",
      "  (weight_tensor) None\n",
      ")\"\n",
      "2020-10-20 15:29:40,894 ----------------------------------------------------------------------------------------------------\n",
      "2020-10-20 15:29:40,896 Corpus: \"Corpus: 10178 train + 2182 dev + 2182 test sentences\"\n",
      "2020-10-20 15:29:40,896 ----------------------------------------------------------------------------------------------------\n",
      "2020-10-20 15:29:40,897 Parameters:\n",
      "2020-10-20 15:29:40,898  - learning_rate: \"0.1\"\n",
      "2020-10-20 15:29:40,898  - mini_batch_size: \"32\"\n",
      "2020-10-20 15:29:40,899  - patience: \"3\"\n",
      "2020-10-20 15:29:40,900  - anneal_factor: \"0.5\"\n",
      "2020-10-20 15:29:40,901  - max_epochs: \"150\"\n",
      "2020-10-20 15:29:40,901  - shuffle: \"True\"\n",
      "2020-10-20 15:29:40,902  - train_with_dev: \"False\"\n",
      "2020-10-20 15:29:40,902  - batch_growth_annealing: \"False\"\n",
      "2020-10-20 15:29:40,904 ----------------------------------------------------------------------------------------------------\n",
      "2020-10-20 15:29:40,905 Model training base path: \"models\\speconly_bioscope_flair-word\"\n",
      "2020-10-20 15:29:40,905 ----------------------------------------------------------------------------------------------------\n",
      "2020-10-20 15:29:40,906 Device: cuda:0\n",
      "2020-10-20 15:29:40,907 ----------------------------------------------------------------------------------------------------\n",
      "2020-10-20 15:29:40,907 Embeddings storage mode: none\n",
      "2020-10-20 15:29:40,916 ----------------------------------------------------------------------------------------------------\n"
     ]
    }
   ],
   "source": [
    "#  start training\n",
    "trainer.train('models/speconly_bioscope_flair-word',\n",
    "              learning_rate=0.1,\n",
    "              mini_batch_size=32,\n",
    "              embeddings_storage_mode='none',\n",
    "              max_epochs=150)"
   ]
  },
  {
   "cell_type": "code",
   "execution_count": null,
   "metadata": {},
   "outputs": [],
   "source": [
    "# load the model you trained\n",
    "from flair.models import SequenceTagger\n",
    "model_bc5cdr = SequenceTagger.load('models/bc5cdr-chem/final-model.pt')"
   ]
  },
  {
   "cell_type": "code",
   "execution_count": null,
   "metadata": {},
   "outputs": [],
   "source": [
    "from flair.data import Sentence\n",
    "\n",
    "# create example sentence\n",
    "ss = Sentence('(Acetaminophen:)')\n",
    "\n",
    "# predict tags and print\n",
    "model_bc5cdr.predict(ss)\n",
    "\n",
    "print(ss.to_tagged_string())"
   ]
  },
  {
   "cell_type": "code",
   "execution_count": null,
   "metadata": {},
   "outputs": [],
   "source": [
    "ss.get_spans('ner')"
   ]
  },
  {
   "cell_type": "code",
   "execution_count": null,
   "metadata": {},
   "outputs": [],
   "source": [
    "ss = Sentence('dob 04 03 1949')\n",
    "model_bc5cdr.predict(ss)\n",
    "ss.get_spans('ner')"
   ]
  },
  {
   "cell_type": "code",
   "execution_count": null,
   "metadata": {},
   "outputs": [],
   "source": [
    "ss.get_spans('ner')"
   ]
  },
  {
   "cell_type": "code",
   "execution_count": null,
   "metadata": {},
   "outputs": [],
   "source": [
    "ss = Sentence('PRINIVIL TABS 20 MG (LISINOPRIL) 1 po qd')\n",
    "\n",
    "# predict tags and print\n",
    "model_bc5cdr.predict(ss)\n",
    "\n",
    "print(ss.to_tagged_string())"
   ]
  },
  {
   "cell_type": "code",
   "execution_count": null,
   "metadata": {},
   "outputs": [],
   "source": [
    "#Prprocess the text\n",
    "preprocess = re.sub('[^a-zA-Z0-9]', ' ', 'PRINIVIL TABS 20 MG (LISINOPRIL) 1 po qd')\n",
    "preprocess = preprocess.lower()\n",
    "\n",
    "#pass through flair Sentence module\n",
    "preprocess = Sentence(preprocess)\n",
    "\n",
    "# predict tags and print\n",
    "model_bc5cdr.predict(preprocess)\n",
    "print(preprocess.to_tagged_string())"
   ]
  },
  {
   "cell_type": "code",
   "execution_count": null,
   "metadata": {},
   "outputs": [],
   "source": [
    "#Looks like removing punctuation helped above in recognizing the drug"
   ]
  },
  {
   "cell_type": "code",
   "execution_count": null,
   "metadata": {},
   "outputs": [],
   "source": [
    "from flair.data import Sentence\n",
    "\n",
    "# create example sentence\n",
    "ss = Sentence('PRINIVIL TABS 20 MG (LISINOPRIL) 1 po qd Last Refill: #30 x 2 : Carl Savem MD (08/27/2010) HUMULIN INJ 70/30 (INSULIN REG & ISOPHANE (HUMAN)) 20 units ac breakfast Last Refill: #600 u x 0 : Carl Savem MD (08/27/2010)'.lower())\n",
    "\n",
    "# predict tags and print\n",
    "model_bc5cdr.predict(ss)\n",
    "\n",
    "print(ss.to_tagged_string())"
   ]
  },
  {
   "cell_type": "code",
   "execution_count": null,
   "metadata": {},
   "outputs": [],
   "source": [
    "ss = 'PRINIVIL TABS 20 MG (LISINOPRIL) 1 po qd Last Refill: #30 x 2 : Carl Savem MD (08/27/2010) HUMULIN INJ 70/30 (INSULIN REG & ISOPHANE (HUMAN)) 20 units ac breakfast Last Refill: #600 u x 0 : Carl Savem MD (08/27/2010)'.lower()\n",
    "ss = remove_special(ss)\n",
    "ss = Sentence(ss)\n",
    "# predict tags and print\n",
    "model_bc5cdr.predict(ss)\n",
    "\n",
    "print(ss.to_tagged_string())"
   ]
  },
  {
   "cell_type": "markdown",
   "metadata": {},
   "source": [
    "**Passing the entire text as a sentence**"
   ]
  },
  {
   "cell_type": "code",
   "execution_count": null,
   "metadata": {},
   "outputs": [],
   "source": [
    "f= open(\"smr.txt\",\"r\")\n",
    "smr =f.read()\n",
    "print (smr)"
   ]
  },
  {
   "cell_type": "code",
   "execution_count": null,
   "metadata": {},
   "outputs": [],
   "source": [
    "smr= remove_special(smr.lower())\n",
    "print (smr)"
   ]
  },
  {
   "cell_type": "code",
   "execution_count": null,
   "metadata": {},
   "outputs": [],
   "source": [
    "ss = Sentence(smr)\n",
    "# predict tags and print\n",
    "model_bc5cdr.predict(ss)\n",
    "\n",
    "print(ss.to_tagged_string())"
   ]
  },
  {
   "cell_type": "code",
   "execution_count": null,
   "metadata": {},
   "outputs": [],
   "source": [
    "for entity in ss.get_spans('ner'):\n",
    "    print(entity)"
   ]
  },
  {
   "cell_type": "code",
   "execution_count": null,
   "metadata": {},
   "outputs": [],
   "source": [
    "ss2 = Sentence('cholesterol cholesterol')\n",
    "# predict tags and print\n",
    "model_bc5cdr.predict(ss2)\n",
    "\n",
    "print(ss2.to_tagged_string())"
   ]
  },
  {
   "cell_type": "code",
   "execution_count": null,
   "metadata": {},
   "outputs": [],
   "source": [
    "ss2.get_spans('ner')"
   ]
  },
  {
   "cell_type": "code",
   "execution_count": null,
   "metadata": {},
   "outputs": [],
   "source": [
    "f= open(\"smr.txt\",\"r\")\n",
    "lines = f.readlines()\n",
    "lines"
   ]
  },
  {
   "cell_type": "code",
   "execution_count": null,
   "metadata": {},
   "outputs": [],
   "source": [
    "sentences = []\n",
    "chemicals = []\n",
    "for num,line in enumerate(lines):\n",
    "    #pline = (remove_special(line)).lower()\n",
    "    pline = line\n",
    "    ss = Sentence(pline)\n",
    "    model_bc5cdr.predict(ss)\n",
    "    chemicals.append((num,pline,ss.get_spans('ner')))"
   ]
  },
  {
   "cell_type": "code",
   "execution_count": null,
   "metadata": {},
   "outputs": [],
   "source": [
    "chemicals"
   ]
  },
  {
   "cell_type": "code",
   "execution_count": null,
   "metadata": {},
   "outputs": [],
   "source": [
    "[chem for chem in chemicals if chem[2] != []]"
   ]
  },
  {
   "cell_type": "code",
   "execution_count": null,
   "metadata": {},
   "outputs": [],
   "source": [
    "[chem[2] for chem in chemicals if chem[2] != []]"
   ]
  },
  {
   "cell_type": "code",
   "execution_count": null,
   "metadata": {},
   "outputs": [],
   "source": []
  }
 ],
 "metadata": {
  "kernelspec": {
   "display_name": "Python 3",
   "language": "python",
   "name": "python3"
  },
  "language_info": {
   "codemirror_mode": {
    "name": "ipython",
    "version": 3
   },
   "file_extension": ".py",
   "mimetype": "text/x-python",
   "name": "python",
   "nbconvert_exporter": "python",
   "pygments_lexer": "ipython3",
   "version": "3.6.9"
  }
 },
 "nbformat": 4,
 "nbformat_minor": 2
}
