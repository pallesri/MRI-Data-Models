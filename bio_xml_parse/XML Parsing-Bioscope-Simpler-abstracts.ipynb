{
 "cells": [
  {
   "cell_type": "code",
   "execution_count": 101,
   "metadata": {},
   "outputs": [],
   "source": [
    "import pandas as pd\n",
    "import numpy as np"
   ]
  },
  {
   "cell_type": "code",
   "execution_count": 102,
   "metadata": {},
   "outputs": [],
   "source": [
    "import xml.etree.ElementTree as ET"
   ]
  },
  {
   "cell_type": "code",
   "execution_count": 107,
   "metadata": {},
   "outputs": [],
   "source": [
    "tree = ET.parse(\"C:/Users/Sri/Google Drive/Data Science/Python/Data_formats/bio_xml_parse/original_data_jonas/abstracts.xml\")\n",
    "#tree = ET.parse(\"C:/Users/Sri/Google Drive/Data Science/Python/Data_formats/bio_xml_parse/original_data_jonas/full_papers.xml\")\n",
    "\n",
    "root = tree.getroot()"
   ]
  },
  {
   "cell_type": "markdown",
   "metadata": {},
   "source": [
    "### Simpler tagging"
   ]
  },
  {
   "cell_type": "code",
   "execution_count": 108,
   "metadata": {},
   "outputs": [],
   "source": [
    "sentences = []\n",
    "negations = []\n",
    "speculations = []\n",
    "for sent in root.iter('sentence'):\n",
    "    sentences.append({sent.attrib['id']:\"\".join(sent.itertext())})\n",
    "    for cue in sent.findall(\"./xcope/cue/[@type='negation']...\"):\n",
    "        negations.append({sent.attrib['id']:\"\".join(cue.itertext())})\n",
    "    for cue in sent.findall(\"./xcope/cue/[@type='speculation']...\"):\n",
    "        speculations.append({sent.attrib['id']:\"\".join(cue.itertext())})"
   ]
  },
  {
   "cell_type": "code",
   "execution_count": 109,
   "metadata": {},
   "outputs": [
    {
     "data": {
      "text/html": [
       "<div>\n",
       "<style scoped>\n",
       "    .dataframe tbody tr th:only-of-type {\n",
       "        vertical-align: middle;\n",
       "    }\n",
       "\n",
       "    .dataframe tbody tr th {\n",
       "        vertical-align: top;\n",
       "    }\n",
       "\n",
       "    .dataframe thead th {\n",
       "        text-align: right;\n",
       "    }\n",
       "</style>\n",
       "<table border=\"1\" class=\"dataframe\">\n",
       "  <thead>\n",
       "    <tr style=\"text-align: right;\">\n",
       "      <th></th>\n",
       "      <th>sid</th>\n",
       "      <th>sentences</th>\n",
       "    </tr>\n",
       "  </thead>\n",
       "  <tbody>\n",
       "    <tr>\n",
       "      <td>0</td>\n",
       "      <td>S1.1</td>\n",
       "      <td>Induction of NF-KB during monocyte differentia...</td>\n",
       "    </tr>\n",
       "    <tr>\n",
       "      <td>1</td>\n",
       "      <td>S1.2</td>\n",
       "      <td>The production of human immunodeficiency virus...</td>\n",
       "    </tr>\n",
       "    <tr>\n",
       "      <td>2</td>\n",
       "      <td>S1.3</td>\n",
       "      <td>Electrophoretic mobility shift assays and Sout...</td>\n",
       "    </tr>\n",
       "    <tr>\n",
       "      <td>3</td>\n",
       "      <td>S1.4</td>\n",
       "      <td>PMA treatment, and not retinoic acid treatment...</td>\n",
       "    </tr>\n",
       "    <tr>\n",
       "      <td>4</td>\n",
       "      <td>S1.5</td>\n",
       "      <td>In nuclear extracts from monocytes or macropha...</td>\n",
       "    </tr>\n",
       "  </tbody>\n",
       "</table>\n",
       "</div>"
      ],
      "text/plain": [
       "    sid                                          sentences\n",
       "0  S1.1  Induction of NF-KB during monocyte differentia...\n",
       "1  S1.2  The production of human immunodeficiency virus...\n",
       "2  S1.3  Electrophoretic mobility shift assays and Sout...\n",
       "3  S1.4  PMA treatment, and not retinoic acid treatment...\n",
       "4  S1.5  In nuclear extracts from monocytes or macropha..."
      ]
     },
     "execution_count": 109,
     "metadata": {},
     "output_type": "execute_result"
    }
   ],
   "source": [
    "sent_df = pd.DataFrame()\n",
    "lol_sents = [list(elem.values()) for elem in sentences]\n",
    "lol_keys = [list(elem.keys()) for elem in sentences]\n",
    "\n",
    "sents = [y for x in lol_sents for y in x]\n",
    "sid = [y for x in lol_keys for y in x]\n",
    "sent_df['sid'] = sid\n",
    "sent_df['sentences'] = sents\n",
    "\n",
    "sent_df.head()"
   ]
  },
  {
   "cell_type": "code",
   "execution_count": 113,
   "metadata": {},
   "outputs": [
    {
     "data": {
      "text/plain": [
       "(11871, 2)"
      ]
     },
     "execution_count": 113,
     "metadata": {},
     "output_type": "execute_result"
    }
   ],
   "source": [
    "sent_df.shape"
   ]
  },
  {
   "cell_type": "code",
   "execution_count": 110,
   "metadata": {},
   "outputs": [
    {
     "data": {
      "text/html": [
       "<div>\n",
       "<style scoped>\n",
       "    .dataframe tbody tr th:only-of-type {\n",
       "        vertical-align: middle;\n",
       "    }\n",
       "\n",
       "    .dataframe tbody tr th {\n",
       "        vertical-align: top;\n",
       "    }\n",
       "\n",
       "    .dataframe thead th {\n",
       "        text-align: right;\n",
       "    }\n",
       "</style>\n",
       "<table border=\"1\" class=\"dataframe\">\n",
       "  <thead>\n",
       "    <tr style=\"text-align: right;\">\n",
       "      <th></th>\n",
       "      <th>sid</th>\n",
       "      <th>neg_scopes</th>\n",
       "    </tr>\n",
       "  </thead>\n",
       "  <tbody>\n",
       "    <tr>\n",
       "      <td>0</td>\n",
       "      <td>S1.4</td>\n",
       "      <td>not retinoic acid treatment of the U937 cells</td>\n",
       "    </tr>\n",
       "    <tr>\n",
       "      <td>1</td>\n",
       "      <td>S1.6</td>\n",
       "      <td>no induction of NF-KB factor was detected</td>\n",
       "    </tr>\n",
       "    <tr>\n",
       "      <td>2</td>\n",
       "      <td>S2.3</td>\n",
       "      <td>not in Jurkat T cells or HeLa cells</td>\n",
       "    </tr>\n",
       "    <tr>\n",
       "      <td>3</td>\n",
       "      <td>S2.6</td>\n",
       "      <td>not in Jurkat or HeLa cells</td>\n",
       "    </tr>\n",
       "    <tr>\n",
       "      <td>4</td>\n",
       "      <td>S2.8</td>\n",
       "      <td>no enhancer activity of its own</td>\n",
       "    </tr>\n",
       "  </tbody>\n",
       "</table>\n",
       "</div>"
      ],
      "text/plain": [
       "    sid                                     neg_scopes\n",
       "0  S1.4  not retinoic acid treatment of the U937 cells\n",
       "1  S1.6      no induction of NF-KB factor was detected\n",
       "2  S2.3            not in Jurkat T cells or HeLa cells\n",
       "3  S2.6                    not in Jurkat or HeLa cells\n",
       "4  S2.8                no enhancer activity of its own"
      ]
     },
     "execution_count": 110,
     "metadata": {},
     "output_type": "execute_result"
    }
   ],
   "source": [
    "negations_df = pd.DataFrame()\n",
    "lol_negscopes = [list(elem.values()) for elem in negations]\n",
    "lol_negkeys = [list(elem.keys()) for elem in negations]\n",
    "\n",
    "neg_scopes = [y for x in lol_negscopes for y in x]\n",
    "neg_sid = [y for x in lol_negkeys for y in x]\n",
    "negations_df['sid'] = neg_sid\n",
    "negations_df['neg_scopes'] = neg_scopes\n",
    "negations_df.head()"
   ]
  },
  {
   "cell_type": "code",
   "execution_count": 111,
   "metadata": {},
   "outputs": [
    {
     "data": {
      "text/html": [
       "<div>\n",
       "<style scoped>\n",
       "    .dataframe tbody tr th:only-of-type {\n",
       "        vertical-align: middle;\n",
       "    }\n",
       "\n",
       "    .dataframe tbody tr th {\n",
       "        vertical-align: top;\n",
       "    }\n",
       "\n",
       "    .dataframe thead th {\n",
       "        text-align: right;\n",
       "    }\n",
       "</style>\n",
       "<table border=\"1\" class=\"dataframe\">\n",
       "  <thead>\n",
       "    <tr style=\"text-align: right;\">\n",
       "      <th></th>\n",
       "      <th>sid</th>\n",
       "      <th>spec_scopes</th>\n",
       "    </tr>\n",
       "  </thead>\n",
       "  <tbody>\n",
       "    <tr>\n",
       "      <td>0</td>\n",
       "      <td>S1.6</td>\n",
       "      <td>suggesting that this factor was not required f...</td>\n",
       "    </tr>\n",
       "    <tr>\n",
       "      <td>1</td>\n",
       "      <td>S1.7</td>\n",
       "      <td>indicate that in monocytic cell lineage, HIV-1...</td>\n",
       "    </tr>\n",
       "    <tr>\n",
       "      <td>2</td>\n",
       "      <td>S2.4</td>\n",
       "      <td>B cells, T cells, or HeLa cells</td>\n",
       "    </tr>\n",
       "    <tr>\n",
       "      <td>3</td>\n",
       "      <td>S2.9</td>\n",
       "      <td>could suppress the basal-level activity of the...</td>\n",
       "    </tr>\n",
       "    <tr>\n",
       "      <td>4</td>\n",
       "      <td>S2.11</td>\n",
       "      <td>probably a target site for both positive and n...</td>\n",
       "    </tr>\n",
       "  </tbody>\n",
       "</table>\n",
       "</div>"
      ],
      "text/plain": [
       "     sid                                        spec_scopes\n",
       "0   S1.6  suggesting that this factor was not required f...\n",
       "1   S1.7  indicate that in monocytic cell lineage, HIV-1...\n",
       "2   S2.4                    B cells, T cells, or HeLa cells\n",
       "3   S2.9  could suppress the basal-level activity of the...\n",
       "4  S2.11  probably a target site for both positive and n..."
      ]
     },
     "execution_count": 111,
     "metadata": {},
     "output_type": "execute_result"
    }
   ],
   "source": [
    "speculations_df = pd.DataFrame()\n",
    "lol_specscopes = [list(elem.values()) for elem in speculations]\n",
    "lol_speckeys = [list(elem.keys()) for elem in speculations]\n",
    "\n",
    "spec_scopes = [y for x in lol_specscopes for y in x]\n",
    "spec_sid = [y for x in lol_speckeys for y in x]\n",
    "speculations_df['sid'] = spec_sid\n",
    "speculations_df['spec_scopes'] = spec_scopes\n",
    "speculations_df.head()"
   ]
  },
  {
   "cell_type": "code",
   "execution_count": 112,
   "metadata": {},
   "outputs": [
    {
     "data": {
      "text/plain": [
       "(12045, 4)"
      ]
     },
     "execution_count": 112,
     "metadata": {},
     "output_type": "execute_result"
    }
   ],
   "source": [
    "bio_df = pd.merge(sent_df,negations_df, how='left')\n",
    "bio_df_scopes = pd.merge(bio_df,speculations_df, how='left')\n",
    "bio_df_scopes.shape"
   ]
  },
  {
   "cell_type": "code",
   "execution_count": 91,
   "metadata": {},
   "outputs": [
    {
     "data": {
      "text/html": [
       "<div>\n",
       "<style scoped>\n",
       "    .dataframe tbody tr th:only-of-type {\n",
       "        vertical-align: middle;\n",
       "    }\n",
       "\n",
       "    .dataframe tbody tr th {\n",
       "        vertical-align: top;\n",
       "    }\n",
       "\n",
       "    .dataframe thead th {\n",
       "        text-align: right;\n",
       "    }\n",
       "</style>\n",
       "<table border=\"1\" class=\"dataframe\">\n",
       "  <thead>\n",
       "    <tr style=\"text-align: right;\">\n",
       "      <th></th>\n",
       "      <th>sid</th>\n",
       "      <th>sentences</th>\n",
       "      <th>neg_scopes</th>\n",
       "      <th>spec_scopes</th>\n",
       "    </tr>\n",
       "  </thead>\n",
       "  <tbody>\n",
       "    <tr>\n",
       "      <td>0</td>\n",
       "      <td>S1.1</td>\n",
       "      <td>Induction of NF-KB during monocyte differentia...</td>\n",
       "      <td>NaN</td>\n",
       "      <td>NaN</td>\n",
       "    </tr>\n",
       "    <tr>\n",
       "      <td>1</td>\n",
       "      <td>S1.2</td>\n",
       "      <td>The production of human immunodeficiency virus...</td>\n",
       "      <td>NaN</td>\n",
       "      <td>NaN</td>\n",
       "    </tr>\n",
       "    <tr>\n",
       "      <td>2</td>\n",
       "      <td>S1.3</td>\n",
       "      <td>Electrophoretic mobility shift assays and Sout...</td>\n",
       "      <td>NaN</td>\n",
       "      <td>NaN</td>\n",
       "    </tr>\n",
       "  </tbody>\n",
       "</table>\n",
       "</div>"
      ],
      "text/plain": [
       "    sid                                          sentences neg_scopes  \\\n",
       "0  S1.1  Induction of NF-KB during monocyte differentia...        NaN   \n",
       "1  S1.2  The production of human immunodeficiency virus...        NaN   \n",
       "2  S1.3  Electrophoretic mobility shift assays and Sout...        NaN   \n",
       "\n",
       "  spec_scopes  \n",
       "0         NaN  \n",
       "1         NaN  \n",
       "2         NaN  "
      ]
     },
     "execution_count": 91,
     "metadata": {},
     "output_type": "execute_result"
    }
   ],
   "source": [
    "bio_df_scopes.head(3)"
   ]
  },
  {
   "cell_type": "code",
   "execution_count": 92,
   "metadata": {},
   "outputs": [
    {
     "data": {
      "text/html": [
       "<div>\n",
       "<style scoped>\n",
       "    .dataframe tbody tr th:only-of-type {\n",
       "        vertical-align: middle;\n",
       "    }\n",
       "\n",
       "    .dataframe tbody tr th {\n",
       "        vertical-align: top;\n",
       "    }\n",
       "\n",
       "    .dataframe thead th {\n",
       "        text-align: right;\n",
       "    }\n",
       "</style>\n",
       "<table border=\"1\" class=\"dataframe\">\n",
       "  <thead>\n",
       "    <tr style=\"text-align: right;\">\n",
       "      <th></th>\n",
       "      <th>oidx</th>\n",
       "      <th>sid</th>\n",
       "      <th>sentences</th>\n",
       "      <th>neg_scopes</th>\n",
       "      <th>spec_scopes</th>\n",
       "    </tr>\n",
       "  </thead>\n",
       "  <tbody>\n",
       "    <tr>\n",
       "      <td>0</td>\n",
       "      <td>0</td>\n",
       "      <td>S1.1</td>\n",
       "      <td>Induction of NF-KB during monocyte differentia...</td>\n",
       "      <td>NaN</td>\n",
       "      <td>NaN</td>\n",
       "    </tr>\n",
       "    <tr>\n",
       "      <td>1</td>\n",
       "      <td>1</td>\n",
       "      <td>S1.2</td>\n",
       "      <td>The production of human immunodeficiency virus...</td>\n",
       "      <td>NaN</td>\n",
       "      <td>NaN</td>\n",
       "    </tr>\n",
       "    <tr>\n",
       "      <td>2</td>\n",
       "      <td>2</td>\n",
       "      <td>S1.3</td>\n",
       "      <td>Electrophoretic mobility shift assays and Sout...</td>\n",
       "      <td>NaN</td>\n",
       "      <td>NaN</td>\n",
       "    </tr>\n",
       "    <tr>\n",
       "      <td>3</td>\n",
       "      <td>3</td>\n",
       "      <td>S1.4</td>\n",
       "      <td>PMA treatment, and not retinoic acid treatment...</td>\n",
       "      <td>not retinoic acid treatment of the U937 cells</td>\n",
       "      <td>NaN</td>\n",
       "    </tr>\n",
       "    <tr>\n",
       "      <td>4</td>\n",
       "      <td>4</td>\n",
       "      <td>S1.5</td>\n",
       "      <td>In nuclear extracts from monocytes or macropha...</td>\n",
       "      <td>NaN</td>\n",
       "      <td>NaN</td>\n",
       "    </tr>\n",
       "  </tbody>\n",
       "</table>\n",
       "</div>"
      ],
      "text/plain": [
       "   oidx   sid                                          sentences  \\\n",
       "0     0  S1.1  Induction of NF-KB during monocyte differentia...   \n",
       "1     1  S1.2  The production of human immunodeficiency virus...   \n",
       "2     2  S1.3  Electrophoretic mobility shift assays and Sout...   \n",
       "3     3  S1.4  PMA treatment, and not retinoic acid treatment...   \n",
       "4     4  S1.5  In nuclear extracts from monocytes or macropha...   \n",
       "\n",
       "                                      neg_scopes spec_scopes  \n",
       "0                                            NaN         NaN  \n",
       "1                                            NaN         NaN  \n",
       "2                                            NaN         NaN  \n",
       "3  not retinoic acid treatment of the U937 cells         NaN  \n",
       "4                                            NaN         NaN  "
      ]
     },
     "execution_count": 92,
     "metadata": {},
     "output_type": "execute_result"
    }
   ],
   "source": [
    "bio_df_scopes.reset_index(drop=False, inplace=True)\n",
    "bio_df_scopes.rename(columns={'index':'oidx'},inplace=True)\n",
    "bio_df_scopes.head(5)"
   ]
  },
  {
   "cell_type": "code",
   "execution_count": 93,
   "metadata": {},
   "outputs": [],
   "source": [
    "bio_df_final = bio_df_scopes.groupby('sid').agg({ 'oidx':'first', 'sentences':'first','neg_scopes': list, 'spec_scopes':list})\n",
    "bio_df_final.reset_index(inplace=True)\n",
    "bio_df_final.sort_values('oidx', inplace=True)"
   ]
  },
  {
   "cell_type": "code",
   "execution_count": 94,
   "metadata": {},
   "outputs": [
    {
     "data": {
      "text/html": [
       "<div>\n",
       "<style scoped>\n",
       "    .dataframe tbody tr th:only-of-type {\n",
       "        vertical-align: middle;\n",
       "    }\n",
       "\n",
       "    .dataframe tbody tr th {\n",
       "        vertical-align: top;\n",
       "    }\n",
       "\n",
       "    .dataframe thead th {\n",
       "        text-align: right;\n",
       "    }\n",
       "</style>\n",
       "<table border=\"1\" class=\"dataframe\">\n",
       "  <thead>\n",
       "    <tr style=\"text-align: right;\">\n",
       "      <th></th>\n",
       "      <th>sid</th>\n",
       "      <th>oidx</th>\n",
       "      <th>sentences</th>\n",
       "      <th>neg_scopes</th>\n",
       "      <th>spec_scopes</th>\n",
       "    </tr>\n",
       "  </thead>\n",
       "  <tbody>\n",
       "    <tr>\n",
       "      <td>0</td>\n",
       "      <td>S1.1</td>\n",
       "      <td>0</td>\n",
       "      <td>Induction of NF-KB during monocyte differentia...</td>\n",
       "      <td>[nan]</td>\n",
       "      <td>[nan]</td>\n",
       "    </tr>\n",
       "    <tr>\n",
       "      <td>1</td>\n",
       "      <td>S1.2</td>\n",
       "      <td>1</td>\n",
       "      <td>The production of human immunodeficiency virus...</td>\n",
       "      <td>[nan]</td>\n",
       "      <td>[nan]</td>\n",
       "    </tr>\n",
       "    <tr>\n",
       "      <td>2</td>\n",
       "      <td>S1.3</td>\n",
       "      <td>2</td>\n",
       "      <td>Electrophoretic mobility shift assays and Sout...</td>\n",
       "      <td>[nan]</td>\n",
       "      <td>[nan]</td>\n",
       "    </tr>\n",
       "    <tr>\n",
       "      <td>3</td>\n",
       "      <td>S1.4</td>\n",
       "      <td>3</td>\n",
       "      <td>PMA treatment, and not retinoic acid treatment...</td>\n",
       "      <td>[not retinoic acid treatment of the U937 cells]</td>\n",
       "      <td>[nan]</td>\n",
       "    </tr>\n",
       "    <tr>\n",
       "      <td>4</td>\n",
       "      <td>S1.5</td>\n",
       "      <td>4</td>\n",
       "      <td>In nuclear extracts from monocytes or macropha...</td>\n",
       "      <td>[nan]</td>\n",
       "      <td>[nan]</td>\n",
       "    </tr>\n",
       "  </tbody>\n",
       "</table>\n",
       "</div>"
      ],
      "text/plain": [
       "    sid  oidx                                          sentences  \\\n",
       "0  S1.1     0  Induction of NF-KB during monocyte differentia...   \n",
       "1  S1.2     1  The production of human immunodeficiency virus...   \n",
       "2  S1.3     2  Electrophoretic mobility shift assays and Sout...   \n",
       "3  S1.4     3  PMA treatment, and not retinoic acid treatment...   \n",
       "4  S1.5     4  In nuclear extracts from monocytes or macropha...   \n",
       "\n",
       "                                        neg_scopes spec_scopes  \n",
       "0                                            [nan]       [nan]  \n",
       "1                                            [nan]       [nan]  \n",
       "2                                            [nan]       [nan]  \n",
       "3  [not retinoic acid treatment of the U937 cells]       [nan]  \n",
       "4                                            [nan]       [nan]  "
      ]
     },
     "execution_count": 94,
     "metadata": {},
     "output_type": "execute_result"
    }
   ],
   "source": [
    "bio_df_final.head(5)"
   ]
  },
  {
   "cell_type": "code",
   "execution_count": 95,
   "metadata": {},
   "outputs": [],
   "source": [
    "bio_df_final['neg_scopes'] = bio_df_final['neg_scopes'].apply(lambda x:[] if pd.isnull(x[0]) else x)\n",
    "bio_df_final['spec_scopes'] = bio_df_final['spec_scopes'].apply(lambda x:[] if pd.isnull(x[0]) else x)"
   ]
  },
  {
   "cell_type": "code",
   "execution_count": 96,
   "metadata": {},
   "outputs": [
    {
     "data": {
      "text/html": [
       "<div>\n",
       "<style scoped>\n",
       "    .dataframe tbody tr th:only-of-type {\n",
       "        vertical-align: middle;\n",
       "    }\n",
       "\n",
       "    .dataframe tbody tr th {\n",
       "        vertical-align: top;\n",
       "    }\n",
       "\n",
       "    .dataframe thead th {\n",
       "        text-align: right;\n",
       "    }\n",
       "</style>\n",
       "<table border=\"1\" class=\"dataframe\">\n",
       "  <thead>\n",
       "    <tr style=\"text-align: right;\">\n",
       "      <th></th>\n",
       "      <th>sid</th>\n",
       "      <th>oidx</th>\n",
       "      <th>sentences</th>\n",
       "      <th>neg_scopes</th>\n",
       "      <th>spec_scopes</th>\n",
       "    </tr>\n",
       "  </thead>\n",
       "  <tbody>\n",
       "    <tr>\n",
       "      <td>1015</td>\n",
       "      <td>S11.9</td>\n",
       "      <td>101</td>\n",
       "      <td>They bind to the kappa B motifs with different...</td>\n",
       "      <td>[]</td>\n",
       "      <td>[may reflect their different contribution in t...</td>\n",
       "    </tr>\n",
       "    <tr>\n",
       "      <td>2012</td>\n",
       "      <td>S12.1</td>\n",
       "      <td>102</td>\n",
       "      <td>The functional domains of the murine Thy-1 gen...</td>\n",
       "      <td>[]</td>\n",
       "      <td>[]</td>\n",
       "    </tr>\n",
       "    <tr>\n",
       "      <td>2013</td>\n",
       "      <td>S12.2</td>\n",
       "      <td>103</td>\n",
       "      <td>The Thy-1 gene promoter resembles a \" housekee...</td>\n",
       "      <td>[lacks a canonical TATA box]</td>\n",
       "      <td>[]</td>\n",
       "    </tr>\n",
       "    <tr>\n",
       "      <td>2014</td>\n",
       "      <td>S12.3</td>\n",
       "      <td>104</td>\n",
       "      <td>Using transgenic mice, we show that this promo...</td>\n",
       "      <td>[not confer any tissue specificity]</td>\n",
       "      <td>[]</td>\n",
       "    </tr>\n",
       "    <tr>\n",
       "      <td>2015</td>\n",
       "      <td>S12.4</td>\n",
       "      <td>105</td>\n",
       "      <td>It can only be activated in a tissue-specific ...</td>\n",
       "      <td>[]</td>\n",
       "      <td>[]</td>\n",
       "    </tr>\n",
       "    <tr>\n",
       "      <td>2016</td>\n",
       "      <td>S12.5</td>\n",
       "      <td>106</td>\n",
       "      <td>We have analyzed the functional domains of the...</td>\n",
       "      <td>[]</td>\n",
       "      <td>[]</td>\n",
       "    </tr>\n",
       "    <tr>\n",
       "      <td>2017</td>\n",
       "      <td>S12.6</td>\n",
       "      <td>107</td>\n",
       "      <td>DNase I and gel mobility shift assays show the...</td>\n",
       "      <td>[]</td>\n",
       "      <td>[]</td>\n",
       "    </tr>\n",
       "    <tr>\n",
       "      <td>2018</td>\n",
       "      <td>S12.7</td>\n",
       "      <td>108</td>\n",
       "      <td>Our results show that the structure of this pr...</td>\n",
       "      <td>[]</td>\n",
       "      <td>[]</td>\n",
       "    </tr>\n",
       "    <tr>\n",
       "      <td>2836</td>\n",
       "      <td>S13.1</td>\n",
       "      <td>109</td>\n",
       "      <td>Comparison of constitutive and inducible trans...</td>\n",
       "      <td>[]</td>\n",
       "      <td>[]</td>\n",
       "    </tr>\n",
       "    <tr>\n",
       "      <td>2837</td>\n",
       "      <td>S13.2</td>\n",
       "      <td>110</td>\n",
       "      <td>The kappa B sequence (GGGACTTTCC) binds a fact...</td>\n",
       "      <td>[]</td>\n",
       "      <td>[]</td>\n",
       "    </tr>\n",
       "    <tr>\n",
       "      <td>2838</td>\n",
       "      <td>S13.3</td>\n",
       "      <td>111</td>\n",
       "      <td>A factor with apparently indistinguishable seq...</td>\n",
       "      <td>[]</td>\n",
       "      <td>[]</td>\n",
       "    </tr>\n",
       "    <tr>\n",
       "      <td>2839</td>\n",
       "      <td>S13.4</td>\n",
       "      <td>112</td>\n",
       "      <td>For example, kappa B-related sequences have be...</td>\n",
       "      <td>[]</td>\n",
       "      <td>[]</td>\n",
       "    </tr>\n",
       "    <tr>\n",
       "      <td>2840</td>\n",
       "      <td>S13.5</td>\n",
       "      <td>113</td>\n",
       "      <td>However, these genes are not constitutively ac...</td>\n",
       "      <td>[not constitutively active in B lymphocytes]</td>\n",
       "      <td>[suggesting that other regulatory mechanisms m...</td>\n",
       "    </tr>\n",
       "    <tr>\n",
       "      <td>2841</td>\n",
       "      <td>S13.6</td>\n",
       "      <td>114</td>\n",
       "      <td>We have investigated the constitutive and indu...</td>\n",
       "      <td>[]</td>\n",
       "      <td>[]</td>\n",
       "    </tr>\n",
       "    <tr>\n",
       "      <td>2842</td>\n",
       "      <td>S13.7</td>\n",
       "      <td>115</td>\n",
       "      <td>We show that in S194 plasma cells the activity...</td>\n",
       "      <td>[]</td>\n",
       "      <td>[]</td>\n",
       "    </tr>\n",
       "    <tr>\n",
       "      <td>2843</td>\n",
       "      <td>S13.8</td>\n",
       "      <td>116</td>\n",
       "      <td>This leads to significantly lower transcriptio...</td>\n",
       "      <td>[]</td>\n",
       "      <td>[]</td>\n",
       "    </tr>\n",
       "    <tr>\n",
       "      <td>2844</td>\n",
       "      <td>S13.9</td>\n",
       "      <td>117</td>\n",
       "      <td>However, in either EL-4 ( T ) cells or S194 ce...</td>\n",
       "      <td>[]</td>\n",
       "      <td>[]</td>\n",
       "    </tr>\n",
       "    <tr>\n",
       "      <td>2938</td>\n",
       "      <td>S14.1</td>\n",
       "      <td>118</td>\n",
       "      <td>Isolation of a rel-related human cDNA that pot...</td>\n",
       "      <td>[]</td>\n",
       "      <td>[potentially encodes the 65-kD subunit of NF-k...</td>\n",
       "    </tr>\n",
       "    <tr>\n",
       "      <td>2939</td>\n",
       "      <td>S14.2</td>\n",
       "      <td>119</td>\n",
       "      <td>A DNA probe that spanned a domain conserved am...</td>\n",
       "      <td>[]</td>\n",
       "      <td>[]</td>\n",
       "    </tr>\n",
       "    <tr>\n",
       "      <td>2940</td>\n",
       "      <td>S14.3</td>\n",
       "      <td>120</td>\n",
       "      <td>This probe was used to identify a rel-related ...</td>\n",
       "      <td>[]</td>\n",
       "      <td>[]</td>\n",
       "    </tr>\n",
       "    <tr>\n",
       "      <td>2941</td>\n",
       "      <td>S14.4</td>\n",
       "      <td>121</td>\n",
       "      <td>In vitro transcription and translation of the ...</td>\n",
       "      <td>[]</td>\n",
       "      <td>[]</td>\n",
       "    </tr>\n",
       "    <tr>\n",
       "      <td>2942</td>\n",
       "      <td>S14.5</td>\n",
       "      <td>122</td>\n",
       "      <td>The translated protein showed weak DNA binding...</td>\n",
       "      <td>[]</td>\n",
       "      <td>[]</td>\n",
       "    </tr>\n",
       "    <tr>\n",
       "      <td>2943</td>\n",
       "      <td>S14.6</td>\n",
       "      <td>123</td>\n",
       "      <td>This protein-DNA complex comigrated with the c...</td>\n",
       "      <td>[]</td>\n",
       "      <td>[]</td>\n",
       "    </tr>\n",
       "    <tr>\n",
       "      <td>2944</td>\n",
       "      <td>S14.7</td>\n",
       "      <td>124</td>\n",
       "      <td>In addition, the 65-kD protein associated with...</td>\n",
       "      <td>[]</td>\n",
       "      <td>[]</td>\n",
       "    </tr>\n",
       "    <tr>\n",
       "      <td>2945</td>\n",
       "      <td>S14.8</td>\n",
       "      <td>125</td>\n",
       "      <td>Therefore the rel-related 65-kD protein may re...</td>\n",
       "      <td>[]</td>\n",
       "      <td>[may represent the p65 subunit of the active N...</td>\n",
       "    </tr>\n",
       "    <tr>\n",
       "      <td>3026</td>\n",
       "      <td>S15.1</td>\n",
       "      <td>126</td>\n",
       "      <td>Lymphocyte glucocorticoid receptor number in p...</td>\n",
       "      <td>[]</td>\n",
       "      <td>[]</td>\n",
       "    </tr>\n",
       "    <tr>\n",
       "      <td>3029</td>\n",
       "      <td>S15.2</td>\n",
       "      <td>127</td>\n",
       "      <td>OBJECTIVE: The authors ' objective was to inve...</td>\n",
       "      <td>[]</td>\n",
       "      <td>[possibility that glucocorticoid receptor chan...</td>\n",
       "    </tr>\n",
       "    <tr>\n",
       "      <td>3030</td>\n",
       "      <td>S15.3</td>\n",
       "      <td>128</td>\n",
       "      <td>METHOD: They measured the number of lymphocyte...</td>\n",
       "      <td>[]</td>\n",
       "      <td>[]</td>\n",
       "    </tr>\n",
       "    <tr>\n",
       "      <td>3031</td>\n",
       "      <td>S15.4</td>\n",
       "      <td>129</td>\n",
       "      <td>RESULTS: Both the patients and the normal comp...</td>\n",
       "      <td>[]</td>\n",
       "      <td>[]</td>\n",
       "    </tr>\n",
       "    <tr>\n",
       "      <td>3032</td>\n",
       "      <td>S15.5</td>\n",
       "      <td>130</td>\n",
       "      <td>The number of glucocorticoid receptors was 63 ...</td>\n",
       "      <td>[]</td>\n",
       "      <td>[]</td>\n",
       "    </tr>\n",
       "    <tr>\n",
       "      <td>3033</td>\n",
       "      <td>S15.6</td>\n",
       "      <td>131</td>\n",
       "      <td>No group differences in cortisol levels were o...</td>\n",
       "      <td>[No group differences in cortisol levels were ...</td>\n",
       "      <td>[]</td>\n",
       "    </tr>\n",
       "    <tr>\n",
       "      <td>3034</td>\n",
       "      <td>S15.7</td>\n",
       "      <td>133</td>\n",
       "      <td>The number of morning glucocorticoid receptors...</td>\n",
       "      <td>[]</td>\n",
       "      <td>[]</td>\n",
       "    </tr>\n",
       "    <tr>\n",
       "      <td>3035</td>\n",
       "      <td>S15.8</td>\n",
       "      <td>134</td>\n",
       "      <td>CONCLUSIONS: These results provide further evi...</td>\n",
       "      <td>[]</td>\n",
       "      <td>[]</td>\n",
       "    </tr>\n",
       "    <tr>\n",
       "      <td>3036</td>\n",
       "      <td>S15.9</td>\n",
       "      <td>135</td>\n",
       "      <td>The finding that patients with PTSD had a subs...</td>\n",
       "      <td>[]</td>\n",
       "      <td>[]</td>\n",
       "    </tr>\n",
       "    <tr>\n",
       "      <td>3027</td>\n",
       "      <td>S15.10</td>\n",
       "      <td>136</td>\n",
       "      <td>Furthermore, the receptor changes observed are...</td>\n",
       "      <td>[]</td>\n",
       "      <td>[]</td>\n",
       "    </tr>\n",
       "    <tr>\n",
       "      <td>3028</td>\n",
       "      <td>S15.11</td>\n",
       "      <td>137</td>\n",
       "      <td>The present data, along with other findings of...</td>\n",
       "      <td>[]</td>\n",
       "      <td>[possibility of a greater negative feedback se...</td>\n",
       "    </tr>\n",
       "    <tr>\n",
       "      <td>3125</td>\n",
       "      <td>S16.1</td>\n",
       "      <td>138</td>\n",
       "      <td>A thymus-specific member of the HMG protein fa...</td>\n",
       "      <td>[]</td>\n",
       "      <td>[]</td>\n",
       "    </tr>\n",
       "    <tr>\n",
       "      <td>3126</td>\n",
       "      <td>S16.2</td>\n",
       "      <td>139</td>\n",
       "      <td>The human T cell-specific transcription factor...</td>\n",
       "      <td>[]</td>\n",
       "      <td>[]</td>\n",
       "    </tr>\n",
       "    <tr>\n",
       "      <td>3127</td>\n",
       "      <td>S16.3</td>\n",
       "      <td>140</td>\n",
       "      <td>Using amino acid sequence information derived ...</td>\n",
       "      <td>[]</td>\n",
       "      <td>[]</td>\n",
       "    </tr>\n",
       "    <tr>\n",
       "      <td>3128</td>\n",
       "      <td>S16.4</td>\n",
       "      <td>141</td>\n",
       "      <td>The TCF-1 alpha cDNA contains a single 68-amin...</td>\n",
       "      <td>[]</td>\n",
       "      <td>[]</td>\n",
       "    </tr>\n",
       "    <tr>\n",
       "      <td>3129</td>\n",
       "      <td>S16.5</td>\n",
       "      <td>142</td>\n",
       "      <td>Expression of full-length and mutant cDNA clon...</td>\n",
       "      <td>[]</td>\n",
       "      <td>[which is predicted to contain two extended al...</td>\n",
       "    </tr>\n",
       "    <tr>\n",
       "      <td>3130</td>\n",
       "      <td>S16.6</td>\n",
       "      <td>143</td>\n",
       "      <td>Northern blot experiments demonstrate further ...</td>\n",
       "      <td>[]</td>\n",
       "      <td>[]</td>\n",
       "    </tr>\n",
       "    <tr>\n",
       "      <td>3131</td>\n",
       "      <td>S16.7</td>\n",
       "      <td>144</td>\n",
       "      <td>The immature CEM T cell line expresses relativ...</td>\n",
       "      <td>[]</td>\n",
       "      <td>[]</td>\n",
       "    </tr>\n",
       "    <tr>\n",
       "      <td>3132</td>\n",
       "      <td>S16.8</td>\n",
       "      <td>145</td>\n",
       "      <td>Interestingly, the cloned TCF-1 alpha protein ...</td>\n",
       "      <td>[]</td>\n",
       "      <td>[]</td>\n",
       "    </tr>\n",
       "    <tr>\n",
       "      <td>3133</td>\n",
       "      <td>S16.9</td>\n",
       "      <td>146</td>\n",
       "      <td>TCF-1 alpha is currently unique among the newl...</td>\n",
       "      <td>[]</td>\n",
       "      <td>[]</td>\n",
       "    </tr>\n",
       "    <tr>\n",
       "      <td>3210</td>\n",
       "      <td>S17.1</td>\n",
       "      <td>147</td>\n",
       "      <td>Immune response of peripheral blood mononuclea...</td>\n",
       "      <td>[]</td>\n",
       "      <td>[]</td>\n",
       "    </tr>\n",
       "    <tr>\n",
       "      <td>3211</td>\n",
       "      <td>S17.2</td>\n",
       "      <td>148</td>\n",
       "      <td>The hepatitis B virus genome encodes a transcr...</td>\n",
       "      <td>[]</td>\n",
       "      <td>[]</td>\n",
       "    </tr>\n",
       "    <tr>\n",
       "      <td>3212</td>\n",
       "      <td>S17.3</td>\n",
       "      <td>149</td>\n",
       "      <td>We have investigated whether this antigen is a...</td>\n",
       "      <td>[]</td>\n",
       "      <td>[whether this antigen is a target structure fo...</td>\n",
       "    </tr>\n",
       "    <tr>\n",
       "      <td>3213</td>\n",
       "      <td>S17.4</td>\n",
       "      <td>150</td>\n",
       "      <td>Using recombinant HBxAg protein, we found HBxA...</td>\n",
       "      <td>[not in healthy individuals]</td>\n",
       "      <td>[]</td>\n",
       "    </tr>\n",
       "    <tr>\n",
       "      <td>3214</td>\n",
       "      <td>S17.5</td>\n",
       "      <td>151</td>\n",
       "      <td>With HBxAg-specific synthetic polypeptides, se...</td>\n",
       "      <td>[]</td>\n",
       "      <td>[]</td>\n",
       "    </tr>\n",
       "  </tbody>\n",
       "</table>\n",
       "</div>"
      ],
      "text/plain": [
       "         sid  oidx                                          sentences  \\\n",
       "1015   S11.9   101  They bind to the kappa B motifs with different...   \n",
       "2012   S12.1   102  The functional domains of the murine Thy-1 gen...   \n",
       "2013   S12.2   103  The Thy-1 gene promoter resembles a \" housekee...   \n",
       "2014   S12.3   104  Using transgenic mice, we show that this promo...   \n",
       "2015   S12.4   105  It can only be activated in a tissue-specific ...   \n",
       "2016   S12.5   106  We have analyzed the functional domains of the...   \n",
       "2017   S12.6   107  DNase I and gel mobility shift assays show the...   \n",
       "2018   S12.7   108  Our results show that the structure of this pr...   \n",
       "2836   S13.1   109  Comparison of constitutive and inducible trans...   \n",
       "2837   S13.2   110  The kappa B sequence (GGGACTTTCC) binds a fact...   \n",
       "2838   S13.3   111  A factor with apparently indistinguishable seq...   \n",
       "2839   S13.4   112  For example, kappa B-related sequences have be...   \n",
       "2840   S13.5   113  However, these genes are not constitutively ac...   \n",
       "2841   S13.6   114  We have investigated the constitutive and indu...   \n",
       "2842   S13.7   115  We show that in S194 plasma cells the activity...   \n",
       "2843   S13.8   116  This leads to significantly lower transcriptio...   \n",
       "2844   S13.9   117  However, in either EL-4 ( T ) cells or S194 ce...   \n",
       "2938   S14.1   118  Isolation of a rel-related human cDNA that pot...   \n",
       "2939   S14.2   119  A DNA probe that spanned a domain conserved am...   \n",
       "2940   S14.3   120  This probe was used to identify a rel-related ...   \n",
       "2941   S14.4   121  In vitro transcription and translation of the ...   \n",
       "2942   S14.5   122  The translated protein showed weak DNA binding...   \n",
       "2943   S14.6   123  This protein-DNA complex comigrated with the c...   \n",
       "2944   S14.7   124  In addition, the 65-kD protein associated with...   \n",
       "2945   S14.8   125  Therefore the rel-related 65-kD protein may re...   \n",
       "3026   S15.1   126  Lymphocyte glucocorticoid receptor number in p...   \n",
       "3029   S15.2   127  OBJECTIVE: The authors ' objective was to inve...   \n",
       "3030   S15.3   128  METHOD: They measured the number of lymphocyte...   \n",
       "3031   S15.4   129  RESULTS: Both the patients and the normal comp...   \n",
       "3032   S15.5   130  The number of glucocorticoid receptors was 63 ...   \n",
       "3033   S15.6   131  No group differences in cortisol levels were o...   \n",
       "3034   S15.7   133  The number of morning glucocorticoid receptors...   \n",
       "3035   S15.8   134  CONCLUSIONS: These results provide further evi...   \n",
       "3036   S15.9   135  The finding that patients with PTSD had a subs...   \n",
       "3027  S15.10   136  Furthermore, the receptor changes observed are...   \n",
       "3028  S15.11   137  The present data, along with other findings of...   \n",
       "3125   S16.1   138  A thymus-specific member of the HMG protein fa...   \n",
       "3126   S16.2   139  The human T cell-specific transcription factor...   \n",
       "3127   S16.3   140  Using amino acid sequence information derived ...   \n",
       "3128   S16.4   141  The TCF-1 alpha cDNA contains a single 68-amin...   \n",
       "3129   S16.5   142  Expression of full-length and mutant cDNA clon...   \n",
       "3130   S16.6   143  Northern blot experiments demonstrate further ...   \n",
       "3131   S16.7   144  The immature CEM T cell line expresses relativ...   \n",
       "3132   S16.8   145  Interestingly, the cloned TCF-1 alpha protein ...   \n",
       "3133   S16.9   146  TCF-1 alpha is currently unique among the newl...   \n",
       "3210   S17.1   147  Immune response of peripheral blood mononuclea...   \n",
       "3211   S17.2   148  The hepatitis B virus genome encodes a transcr...   \n",
       "3212   S17.3   149  We have investigated whether this antigen is a...   \n",
       "3213   S17.4   150  Using recombinant HBxAg protein, we found HBxA...   \n",
       "3214   S17.5   151  With HBxAg-specific synthetic polypeptides, se...   \n",
       "\n",
       "                                             neg_scopes  \\\n",
       "1015                                                 []   \n",
       "2012                                                 []   \n",
       "2013                       [lacks a canonical TATA box]   \n",
       "2014                [not confer any tissue specificity]   \n",
       "2015                                                 []   \n",
       "2016                                                 []   \n",
       "2017                                                 []   \n",
       "2018                                                 []   \n",
       "2836                                                 []   \n",
       "2837                                                 []   \n",
       "2838                                                 []   \n",
       "2839                                                 []   \n",
       "2840       [not constitutively active in B lymphocytes]   \n",
       "2841                                                 []   \n",
       "2842                                                 []   \n",
       "2843                                                 []   \n",
       "2844                                                 []   \n",
       "2938                                                 []   \n",
       "2939                                                 []   \n",
       "2940                                                 []   \n",
       "2941                                                 []   \n",
       "2942                                                 []   \n",
       "2943                                                 []   \n",
       "2944                                                 []   \n",
       "2945                                                 []   \n",
       "3026                                                 []   \n",
       "3029                                                 []   \n",
       "3030                                                 []   \n",
       "3031                                                 []   \n",
       "3032                                                 []   \n",
       "3033  [No group differences in cortisol levels were ...   \n",
       "3034                                                 []   \n",
       "3035                                                 []   \n",
       "3036                                                 []   \n",
       "3027                                                 []   \n",
       "3028                                                 []   \n",
       "3125                                                 []   \n",
       "3126                                                 []   \n",
       "3127                                                 []   \n",
       "3128                                                 []   \n",
       "3129                                                 []   \n",
       "3130                                                 []   \n",
       "3131                                                 []   \n",
       "3132                                                 []   \n",
       "3133                                                 []   \n",
       "3210                                                 []   \n",
       "3211                                                 []   \n",
       "3212                                                 []   \n",
       "3213                       [not in healthy individuals]   \n",
       "3214                                                 []   \n",
       "\n",
       "                                            spec_scopes  \n",
       "1015  [may reflect their different contribution in t...  \n",
       "2012                                                 []  \n",
       "2013                                                 []  \n",
       "2014                                                 []  \n",
       "2015                                                 []  \n",
       "2016                                                 []  \n",
       "2017                                                 []  \n",
       "2018                                                 []  \n",
       "2836                                                 []  \n",
       "2837                                                 []  \n",
       "2838                                                 []  \n",
       "2839                                                 []  \n",
       "2840  [suggesting that other regulatory mechanisms m...  \n",
       "2841                                                 []  \n",
       "2842                                                 []  \n",
       "2843                                                 []  \n",
       "2844                                                 []  \n",
       "2938  [potentially encodes the 65-kD subunit of NF-k...  \n",
       "2939                                                 []  \n",
       "2940                                                 []  \n",
       "2941                                                 []  \n",
       "2942                                                 []  \n",
       "2943                                                 []  \n",
       "2944                                                 []  \n",
       "2945  [may represent the p65 subunit of the active N...  \n",
       "3026                                                 []  \n",
       "3029  [possibility that glucocorticoid receptor chan...  \n",
       "3030                                                 []  \n",
       "3031                                                 []  \n",
       "3032                                                 []  \n",
       "3033                                                 []  \n",
       "3034                                                 []  \n",
       "3035                                                 []  \n",
       "3036                                                 []  \n",
       "3027                                                 []  \n",
       "3028  [possibility of a greater negative feedback se...  \n",
       "3125                                                 []  \n",
       "3126                                                 []  \n",
       "3127                                                 []  \n",
       "3128                                                 []  \n",
       "3129  [which is predicted to contain two extended al...  \n",
       "3130                                                 []  \n",
       "3131                                                 []  \n",
       "3132                                                 []  \n",
       "3133                                                 []  \n",
       "3210                                                 []  \n",
       "3211                                                 []  \n",
       "3212  [whether this antigen is a target structure fo...  \n",
       "3213                                                 []  \n",
       "3214                                                 []  "
      ]
     },
     "execution_count": 96,
     "metadata": {},
     "output_type": "execute_result"
    }
   ],
   "source": [
    "bio_df_final.iloc[100:150,:]"
   ]
  },
  {
   "cell_type": "code",
   "execution_count": 98,
   "metadata": {},
   "outputs": [
    {
     "data": {
      "text/plain": [
       "(11871, 5)"
      ]
     },
     "execution_count": 98,
     "metadata": {},
     "output_type": "execute_result"
    }
   ],
   "source": [
    "bio_df_final.shape"
   ]
  },
  {
   "cell_type": "code",
   "execution_count": 100,
   "metadata": {},
   "outputs": [],
   "source": [
    "bio_df_final.to_excel('bio_df_final.xlsx', index=False)"
   ]
  },
  {
   "cell_type": "code",
   "execution_count": null,
   "metadata": {},
   "outputs": [],
   "source": []
  },
  {
   "cell_type": "code",
   "execution_count": null,
   "metadata": {},
   "outputs": [],
   "source": [
    "len(sentences)"
   ]
  },
  {
   "cell_type": "code",
   "execution_count": null,
   "metadata": {},
   "outputs": [],
   "source": [
    "for scope in root.iter('cue'):\n",
    "        print (scope.text)"
   ]
  },
  {
   "cell_type": "code",
   "execution_count": null,
   "metadata": {},
   "outputs": [],
   "source": [
    "sentences = []\n",
    "scopes = []\n",
    "\n",
    "for sentence in root.iter('sentence'):\n",
    "    for scope in sentence.iter():\n",
    "        print (scope.text, scope.tag)\n",
    "#         if(scope.tag == 'sentence'):\n",
    "#             sentences.append(''.join(scope.itertext()))\n",
    "#             scopes.append('')\n",
    "#         elif(scope.tag == 'xcope'):\n",
    "#             scopes.append(''.join(scope.itertext()))"
   ]
  },
  {
   "cell_type": "code",
   "execution_count": null,
   "metadata": {},
   "outputs": [],
   "source": [
    "sentences"
   ]
  },
  {
   "cell_type": "code",
   "execution_count": null,
   "metadata": {},
   "outputs": [],
   "source": [
    "scopes"
   ]
  },
  {
   "cell_type": "code",
   "execution_count": null,
   "metadata": {},
   "outputs": [],
   "source": []
  },
  {
   "cell_type": "code",
   "execution_count": null,
   "metadata": {},
   "outputs": [],
   "source": [
    "sentences"
   ]
  },
  {
   "cell_type": "code",
   "execution_count": null,
   "metadata": {},
   "outputs": [],
   "source": [
    "scopes"
   ]
  },
  {
   "cell_type": "code",
   "execution_count": null,
   "metadata": {},
   "outputs": [],
   "source": [
    "for movie in root.findall(\"./genre/decade/movie/format/[@multiple='Yes']...\"):\n",
    "    print(movie.attrib)"
   ]
  },
  {
   "cell_type": "code",
   "execution_count": null,
   "metadata": {},
   "outputs": [],
   "source": [
    "import xml.etree.ElementTree as ET\n",
    "#x =  # your xml file\n",
    "tree = ET.parse(\"C:/Users/Sri/Google Drive/Data Science/Python/Data_formats/jonas_github/original_data_jonas/abstracts.xml\")\n",
    "root = tree.getroot()\n",
    "string = \"\"\n",
    "for c in root:\n",
    "    string +=  c.text.strip()\n",
    "print (string)"
   ]
  },
  {
   "cell_type": "code",
   "execution_count": null,
   "metadata": {},
   "outputs": [],
   "source": [
    "print(ET.tostring(root, encoding='utf8').decode('utf8'))"
   ]
  },
  {
   "cell_type": "code",
   "execution_count": null,
   "metadata": {},
   "outputs": [],
   "source": [
    "root.tag"
   ]
  },
  {
   "cell_type": "code",
   "execution_count": null,
   "metadata": {},
   "outputs": [],
   "source": [
    "root.attrib"
   ]
  },
  {
   "cell_type": "code",
   "execution_count": null,
   "metadata": {},
   "outputs": [],
   "source": [
    "for child in root:\n",
    "    print (child.tag, child.attrib)"
   ]
  },
  {
   "cell_type": "code",
   "execution_count": null,
   "metadata": {},
   "outputs": [],
   "source": [
    "#To see all the elements in the entire tree"
   ]
  },
  {
   "cell_type": "code",
   "execution_count": null,
   "metadata": {},
   "outputs": [],
   "source": []
  },
  {
   "cell_type": "code",
   "execution_count": null,
   "metadata": {},
   "outputs": [],
   "source": [
    "# helpfulway to see the whole document"
   ]
  },
  {
   "cell_type": "code",
   "execution_count": null,
   "metadata": {
    "scrolled": true
   },
   "outputs": [],
   "source": [
    "print(ET.tostring(root, encoding='utf8').decode('utf8'))"
   ]
  },
  {
   "cell_type": "code",
   "execution_count": null,
   "metadata": {},
   "outputs": [],
   "source": [
    "def all_texts(root):\n",
    "    for child in root:\n",
    "         yield child.tail"
   ]
  },
  {
   "cell_type": "code",
   "execution_count": null,
   "metadata": {},
   "outputs": [],
   "source": [
    "list(all_texts(doc))"
   ]
  },
  {
   "cell_type": "code",
   "execution_count": null,
   "metadata": {},
   "outputs": [],
   "source": [
    "import xml.etree.ElementTree as et\n",
    "\n",
    "xml = \"\"\"\n",
    "<A>\n",
    "    hello\n",
    "\n",
    "    <annotation> NOT part of text </annotation>\n",
    "\n",
    "    world\n",
    "</A>\"\"\""
   ]
  },
  {
   "cell_type": "code",
   "execution_count": null,
   "metadata": {},
   "outputs": [],
   "source": [
    "doc = et.fromstring(xml)"
   ]
  },
  {
   "cell_type": "code",
   "execution_count": null,
   "metadata": {},
   "outputs": [],
   "source": [
    "def all_texts(root):\n",
    "    if root.text is not None:\n",
    "         yield root.text\n",
    "    for child in root:\n",
    "         if child.tail is not None:\n",
    "            yield child.tail"
   ]
  },
  {
   "cell_type": "code",
   "execution_count": null,
   "metadata": {},
   "outputs": [],
   "source": [
    "list(all_texts(doc))"
   ]
  },
  {
   "cell_type": "code",
   "execution_count": null,
   "metadata": {},
   "outputs": [],
   "source": [
    "# To look inside a particular element"
   ]
  },
  {
   "cell_type": "code",
   "execution_count": null,
   "metadata": {},
   "outputs": [],
   "source": [
    "len([sent.text for sent in root.iter('sentence')])"
   ]
  },
  {
   "cell_type": "code",
   "execution_count": null,
   "metadata": {},
   "outputs": [],
   "source": [
    "for child in root.iter('sentence'):\n",
    "    print (sent.tail.text)"
   ]
  },
  {
   "cell_type": "code",
   "execution_count": null,
   "metadata": {},
   "outputs": [],
   "source": [
    "for child in root.findall(\"./DocumentSet/Document/DocID/DocumentPart/sentence\"):\n",
    "    print (child.attrib, child.text)"
   ]
  },
  {
   "cell_type": "code",
   "execution_count": null,
   "metadata": {},
   "outputs": [],
   "source": [
    "scopes = [sent.text for sent in root.iter('xcope')]\n",
    "scopes"
   ]
  },
  {
   "cell_type": "code",
   "execution_count": null,
   "metadata": {},
   "outputs": [],
   "source": [
    "sents[3]"
   ]
  },
  {
   "cell_type": "code",
   "execution_count": null,
   "metadata": {},
   "outputs": [],
   "source": [
    "sents[4]"
   ]
  },
  {
   "cell_type": "code",
   "execution_count": null,
   "metadata": {},
   "outputs": [],
   "source": [
    "[movie.attrib for movie in root.iter('format')]"
   ]
  },
  {
   "cell_type": "markdown",
   "metadata": {},
   "source": [
    "**XPath Expressions\n",
    "Many times elements will not have attributes, they will only have text content. Using the attribute .text, you can print out this content.**"
   ]
  },
  {
   "cell_type": "code",
   "execution_count": null,
   "metadata": {},
   "outputs": [],
   "source": [
    "for description in root.iter('description'):\n",
    "    print(description.text)"
   ]
  },
  {
   "cell_type": "code",
   "execution_count": null,
   "metadata": {},
   "outputs": [],
   "source": [
    "for format in root.iter('format'):\n",
    "    print(format.text)"
   ]
  },
  {
   "cell_type": "markdown",
   "metadata": {},
   "source": [
    "**Understanding XPath is critically important to scanning and populating XMLs. ElementTree has a .findall() function that will traverse the immediate children of the referenced element. You can use XPath expressions to specify more useful searches.**"
   ]
  },
  {
   "cell_type": "code",
   "execution_count": null,
   "metadata": {
    "scrolled": true
   },
   "outputs": [],
   "source": [
    "for movie in root.findall(\"./genre/decade/movie/[year='1992']\"):\n",
    "    print(movie.attrib)"
   ]
  },
  {
   "cell_type": "markdown",
   "metadata": {},
   "source": [
    "**The function .findall() always begins at the element specified. This type of function is extremely powerful for a \"find and replace\". You can even search on attributes!\n",
    "Now, print out only the movies that are available in multiple formats (an attribute).**"
   ]
  },
  {
   "cell_type": "code",
   "execution_count": null,
   "metadata": {},
   "outputs": [],
   "source": [
    "for format in root.findall(\"./genre/decade/movie/format/[@multiple='Yes']\"):\n",
    "    print(format.attrib)"
   ]
  },
  {
   "cell_type": "code",
   "execution_count": null,
   "metadata": {},
   "outputs": [],
   "source": [
    "# with findall you can traverse the children and also the attribues of an element"
   ]
  },
  {
   "cell_type": "code",
   "execution_count": null,
   "metadata": {},
   "outputs": [],
   "source": [
    "for format in root.findall(\"./genre/decade/movie/[@multiple='Yes']\"):\n",
    "    print(format.attrib)\n",
    "#we get nothing here because @multiple is not an attribue of movie nor its child."
   ]
  },
  {
   "cell_type": "code",
   "execution_count": null,
   "metadata": {},
   "outputs": [],
   "source": [
    "# to return the parent attribute of the current element use ..."
   ]
  },
  {
   "cell_type": "code",
   "execution_count": null,
   "metadata": {},
   "outputs": [],
   "source": [
    "for movie in root.findall(\"./genre/decade/movie/format/[@multiple='Yes']...\"):\n",
    "    print(movie.attrib)"
   ]
  },
  {
   "cell_type": "markdown",
   "metadata": {},
   "source": [
    "### Modifying an XML"
   ]
  },
  {
   "cell_type": "code",
   "execution_count": null,
   "metadata": {},
   "outputs": [],
   "source": [
    "for movie in root.iter('movie'):\n",
    "    print (movie.attrib)"
   ]
  },
  {
   "cell_type": "code",
   "execution_count": null,
   "metadata": {},
   "outputs": [],
   "source": [
    "b2tf = root.find(\"./genre/decade/movie/[@title='Back 2 the Future']\")\n",
    "b2tf"
   ]
  },
  {
   "cell_type": "markdown",
   "metadata": {},
   "source": [
    "Notice that using the .find() method returns an element of the tree. Much of the time, it is more useful to edit the content within an element.\n",
    "Modify the title attribute of the Back 2 the Future element variable to read \"Back to the Future\". Then, print out the attributes of your variable to see your change. You can easily do this by accessing the attribute of an element and then assigning a new value to it:"
   ]
  },
  {
   "cell_type": "code",
   "execution_count": null,
   "metadata": {},
   "outputs": [],
   "source": [
    "b2tf.attrib[\"title\"] = \"Back to the Future\"\n",
    "print(b2tf.attrib)"
   ]
  },
  {
   "cell_type": "markdown",
   "metadata": {},
   "source": [
    "Write out your changes back to the XML so they are permanently fixed in the document. Print out your movie attributes again to make sure your changes worked. Use the .write() method to do this:"
   ]
  },
  {
   "cell_type": "code",
   "execution_count": null,
   "metadata": {},
   "outputs": [],
   "source": [
    "tree.write(\"movies.xml\") # this overwrites the xml file.\n",
    "# interesting, we saved the change to a variable, but the original document\n",
    "# got updated with the above command.\n",
    "\n",
    "tree = ET.parse('movies.xml')\n",
    "root = tree.getroot()\n",
    "\n",
    "for movie in root.iter('movie'):\n",
    "    print(movie.attrib)"
   ]
  },
  {
   "cell_type": "markdown",
   "metadata": {},
   "source": [
    "Fixing Attributes\n",
    "The multiple attribute is incorrect in some places. Use ElementTree to fix the designator based on how many formats the movie comes in. First, print the format attribute and text to see which parts need to be fixed."
   ]
  },
  {
   "cell_type": "code",
   "execution_count": null,
   "metadata": {},
   "outputs": [],
   "source": [
    "for form in root.findall(\"./genre/decade/movie/format\"):\n",
    "    print(form.attrib, form.text)"
   ]
  },
  {
   "cell_type": "code",
   "execution_count": null,
   "metadata": {},
   "outputs": [],
   "source": [
    "import re\n",
    "\n",
    "for form in root.findall(\"./genre/decade/movie/format\"):\n",
    "    # Search for the commas in the format text\n",
    "    match = re.search(',',form.text)\n",
    "    if match:\n",
    "        form.set('multiple','Yes')\n",
    "    else:\n",
    "        form.set('multiple','No')"
   ]
  },
  {
   "cell_type": "code",
   "execution_count": null,
   "metadata": {},
   "outputs": [],
   "source": [
    "# Write out the tree to the file again\n",
    "tree.write(\"movies.xml\")\n",
    "\n",
    "tree = ET.parse('movies.xml')\n",
    "root = tree.getroot()\n",
    "\n",
    "for form in root.findall(\"./genre/decade/movie/format\"):\n",
    "    print(form.attrib, form.text)"
   ]
  },
  {
   "cell_type": "markdown",
   "metadata": {},
   "source": [
    "Moving Elements\n",
    "Some of the data has been placed in the wrong decade. Use what you have learned about XML and ElementTree to find and fix the decade data errors.\n",
    "\n",
    "It will be useful to print out both the decade tags and the year tags throughout the document."
   ]
  },
  {
   "cell_type": "code",
   "execution_count": null,
   "metadata": {},
   "outputs": [],
   "source": [
    "for decade in root.findall(\"./genre/decade\"):\n",
    "    print(decade.attrib)\n",
    "    for year in decade.findall(\"./movie/year\"):\n",
    "        print(year.text, '\\n')"
   ]
  },
  {
   "cell_type": "code",
   "execution_count": null,
   "metadata": {},
   "outputs": [],
   "source": [
    "for decade in root.iter('decade'):\n",
    "    print(decade.attrib)"
   ]
  },
  {
   "cell_type": "markdown",
   "metadata": {},
   "source": [
    "The two years that are in the wrong decade are the movies from the 2000s. Figure out what those movies are, using an XPath expression."
   ]
  },
  {
   "cell_type": "code",
   "execution_count": null,
   "metadata": {},
   "outputs": [],
   "source": [
    "for movie in root.findall(\"./genre/decade/movie/[year='2000']\"):\n",
    "    print (movie.attrib)"
   ]
  },
  {
   "cell_type": "markdown",
   "metadata": {},
   "source": [
    "You have to add a new decade tag, the 2000s, to the Action genre in order to move the X-Men data. The .SubElement() method can be used to add this tag to the end of the XML."
   ]
  },
  {
   "cell_type": "code",
   "execution_count": null,
   "metadata": {},
   "outputs": [],
   "source": [
    "action = root.find(\"./genre[@category='Action']\")\n",
    "new_dec = ET.SubElement(action, 'decade')\n",
    "new_dec.attrib[\"years\"] = '2000s'"
   ]
  },
  {
   "cell_type": "code",
   "execution_count": null,
   "metadata": {},
   "outputs": [],
   "source": [
    "print(ET.tostring(action, encoding='utf8').decode('utf8'))"
   ]
  },
  {
   "cell_type": "markdown",
   "metadata": {},
   "source": [
    "Now append the X-Men movie to the 2000s and remove it from the 1990s, using .append() and .remove(), respectively."
   ]
  },
  {
   "cell_type": "code",
   "execution_count": null,
   "metadata": {},
   "outputs": [],
   "source": [
    "xmen = root.find(\"./genre/decade/movie[@title='X-Men']\")\n",
    "dec2000s = root.find(\"./genre[@category='Action']/decade[@years='2000s']\")\n",
    "dec2000s.append(xmen)\n",
    "dec1990s = root.find(\"./genre[@category='Action']/decade[@years='1990s']\")\n",
    "dec1990s.remove(xmen)"
   ]
  },
  {
   "cell_type": "code",
   "execution_count": null,
   "metadata": {},
   "outputs": [],
   "source": [
    "print(ET.tostring(action, encoding='utf8').decode('utf8'))"
   ]
  },
  {
   "cell_type": "markdown",
   "metadata": {},
   "source": [
    "Build XML Documents\n",
    "Nice, so you were able to essentially move an entire movie to a new decade. Save your changes back to the XML."
   ]
  },
  {
   "cell_type": "code",
   "execution_count": null,
   "metadata": {},
   "outputs": [],
   "source": [
    "tree.write(\"movies.xml\")\n",
    "\n",
    "tree = ET.parse('movies.xml')\n",
    "root = tree.getroot()\n",
    "\n",
    "print(ET.tostring(root, encoding='utf8').decode('utf8'))"
   ]
  },
  {
   "cell_type": "code",
   "execution_count": null,
   "metadata": {},
   "outputs": [],
   "source": []
  }
 ],
 "metadata": {
  "kernelspec": {
   "display_name": "Python 3",
   "language": "python",
   "name": "python3"
  },
  "language_info": {
   "codemirror_mode": {
    "name": "ipython",
    "version": 3
   },
   "file_extension": ".py",
   "mimetype": "text/x-python",
   "name": "python",
   "nbconvert_exporter": "python",
   "pygments_lexer": "ipython3",
   "version": "3.6.9"
  }
 },
 "nbformat": 4,
 "nbformat_minor": 2
}
