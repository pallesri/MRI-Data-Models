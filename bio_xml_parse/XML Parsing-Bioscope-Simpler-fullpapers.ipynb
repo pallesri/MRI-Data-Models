{
 "cells": [
  {
   "cell_type": "code",
   "execution_count": 1,
   "metadata": {},
   "outputs": [],
   "source": [
    "import pandas as pd\n",
    "import numpy as np"
   ]
  },
  {
   "cell_type": "code",
   "execution_count": 2,
   "metadata": {},
   "outputs": [],
   "source": [
    "import xml.etree.ElementTree as ET"
   ]
  },
  {
   "cell_type": "code",
   "execution_count": 3,
   "metadata": {},
   "outputs": [],
   "source": [
    "#tree = ET.parse(\"C:/Users/Sri/Google Drive/Data Science/Python/Data_formats/bio_xml_parse/original_data_jonas/abstracts.xml\")\n",
    "tree = ET.parse(\"C:/Users/Sri/Google Drive/Data Science/Python/Data_formats/bio_xml_parse/original_data_jonas/full_papers.xml\")\n",
    "\n",
    "root = tree.getroot()"
   ]
  },
  {
   "cell_type": "markdown",
   "metadata": {},
   "source": [
    "### Simpler tagging"
   ]
  },
  {
   "cell_type": "code",
   "execution_count": 4,
   "metadata": {},
   "outputs": [],
   "source": [
    "sentences = []\n",
    "negations = []\n",
    "speculations = []\n",
    "for sent in root.iter('sentence'):\n",
    "    sentences.append({sent.attrib['id']:\"\".join(sent.itertext())})\n",
    "    for cue in sent.findall(\"./xcope/cue/[@type='negation']...\"):\n",
    "        negations.append({sent.attrib['id']:\"\".join(cue.itertext())})\n",
    "    for cue in sent.findall(\"./xcope/cue/[@type='speculation']...\"):\n",
    "        speculations.append({sent.attrib['id']:\"\".join(cue.itertext())})"
   ]
  },
  {
   "cell_type": "code",
   "execution_count": 5,
   "metadata": {},
   "outputs": [
    {
     "data": {
      "text/html": [
       "<div>\n",
       "<style scoped>\n",
       "    .dataframe tbody tr th:only-of-type {\n",
       "        vertical-align: middle;\n",
       "    }\n",
       "\n",
       "    .dataframe tbody tr th {\n",
       "        vertical-align: top;\n",
       "    }\n",
       "\n",
       "    .dataframe thead th {\n",
       "        text-align: right;\n",
       "    }\n",
       "</style>\n",
       "<table border=\"1\" class=\"dataframe\">\n",
       "  <thead>\n",
       "    <tr style=\"text-align: right;\">\n",
       "      <th></th>\n",
       "      <th>sid</th>\n",
       "      <th>sentences</th>\n",
       "    </tr>\n",
       "  </thead>\n",
       "  <tbody>\n",
       "    <tr>\n",
       "      <td>0</td>\n",
       "      <td>S1.1</td>\n",
       "      <td>Mining prokaryotic genomes for unknown amino a...</td>\n",
       "    </tr>\n",
       "    <tr>\n",
       "      <td>1</td>\n",
       "      <td>S1.2</td>\n",
       "      <td>Abstract</td>\n",
       "    </tr>\n",
       "    <tr>\n",
       "      <td>2</td>\n",
       "      <td>S1.3</td>\n",
       "      <td>Background</td>\n",
       "    </tr>\n",
       "    <tr>\n",
       "      <td>3</td>\n",
       "      <td>S1.4</td>\n",
       "      <td>Selenocysteine and pyrrolysine are the 21st an...</td>\n",
       "    </tr>\n",
       "    <tr>\n",
       "      <td>4</td>\n",
       "      <td>S1.5</td>\n",
       "      <td>Since a number of microbial genomes have been ...</td>\n",
       "    </tr>\n",
       "  </tbody>\n",
       "</table>\n",
       "</div>"
      ],
      "text/plain": [
       "    sid                                          sentences\n",
       "0  S1.1  Mining prokaryotic genomes for unknown amino a...\n",
       "1  S1.2                                           Abstract\n",
       "2  S1.3                                         Background\n",
       "3  S1.4  Selenocysteine and pyrrolysine are the 21st an...\n",
       "4  S1.5  Since a number of microbial genomes have been ..."
      ]
     },
     "execution_count": 5,
     "metadata": {},
     "output_type": "execute_result"
    }
   ],
   "source": [
    "sent_df = pd.DataFrame()\n",
    "lol_sents = [list(elem.values()) for elem in sentences]\n",
    "lol_keys = [list(elem.keys()) for elem in sentences]\n",
    "\n",
    "sents = [y for x in lol_sents for y in x]\n",
    "sid = [y for x in lol_keys for y in x]\n",
    "sent_df['sid'] = sid\n",
    "sent_df['sentences'] = sents\n",
    "\n",
    "sent_df.head()"
   ]
  },
  {
   "cell_type": "code",
   "execution_count": 9,
   "metadata": {},
   "outputs": [
    {
     "data": {
      "text/plain": [
       "(2670, 2)"
      ]
     },
     "execution_count": 9,
     "metadata": {},
     "output_type": "execute_result"
    }
   ],
   "source": [
    "sent_df.shape"
   ]
  },
  {
   "cell_type": "code",
   "execution_count": 10,
   "metadata": {},
   "outputs": [
    {
     "data": {
      "text/html": [
       "<div>\n",
       "<style scoped>\n",
       "    .dataframe tbody tr th:only-of-type {\n",
       "        vertical-align: middle;\n",
       "    }\n",
       "\n",
       "    .dataframe tbody tr th {\n",
       "        vertical-align: top;\n",
       "    }\n",
       "\n",
       "    .dataframe thead th {\n",
       "        text-align: right;\n",
       "    }\n",
       "</style>\n",
       "<table border=\"1\" class=\"dataframe\">\n",
       "  <thead>\n",
       "    <tr style=\"text-align: right;\">\n",
       "      <th></th>\n",
       "      <th>sid</th>\n",
       "      <th>neg_scopes</th>\n",
       "    </tr>\n",
       "  </thead>\n",
       "  <tbody>\n",
       "    <tr>\n",
       "      <td>0</td>\n",
       "      <td>S1.6</td>\n",
       "      <td>no tRNA gene for unknown amino acid was found ...</td>\n",
       "    </tr>\n",
       "    <tr>\n",
       "      <td>1</td>\n",
       "      <td>S1.13</td>\n",
       "      <td>no promising candidate for the 23rd amino acid...</td>\n",
       "    </tr>\n",
       "    <tr>\n",
       "      <td>2</td>\n",
       "      <td>S1.18</td>\n",
       "      <td>not terminate at a stop codon</td>\n",
       "    </tr>\n",
       "    <tr>\n",
       "      <td>3</td>\n",
       "      <td>S1.19</td>\n",
       "      <td>not one of the 20 amino acids</td>\n",
       "    </tr>\n",
       "    <tr>\n",
       "      <td>4</td>\n",
       "      <td>S1.34</td>\n",
       "      <td>no likely tRNA of the novel amino acid was det...</td>\n",
       "    </tr>\n",
       "  </tbody>\n",
       "</table>\n",
       "</div>"
      ],
      "text/plain": [
       "     sid                                         neg_scopes\n",
       "0   S1.6  no tRNA gene for unknown amino acid was found ...\n",
       "1  S1.13  no promising candidate for the 23rd amino acid...\n",
       "2  S1.18                      not terminate at a stop codon\n",
       "3  S1.19                      not one of the 20 amino acids\n",
       "4  S1.34  no likely tRNA of the novel amino acid was det..."
      ]
     },
     "execution_count": 10,
     "metadata": {},
     "output_type": "execute_result"
    }
   ],
   "source": [
    "negations_df = pd.DataFrame()\n",
    "lol_negscopes = [list(elem.values()) for elem in negations]\n",
    "lol_negkeys = [list(elem.keys()) for elem in negations]\n",
    "\n",
    "neg_scopes = [y for x in lol_negscopes for y in x]\n",
    "neg_sid = [y for x in lol_negkeys for y in x]\n",
    "negations_df['sid'] = neg_sid\n",
    "negations_df['neg_scopes'] = neg_scopes\n",
    "negations_df.head()"
   ]
  },
  {
   "cell_type": "code",
   "execution_count": 11,
   "metadata": {},
   "outputs": [
    {
     "data": {
      "text/html": [
       "<div>\n",
       "<style scoped>\n",
       "    .dataframe tbody tr th:only-of-type {\n",
       "        vertical-align: middle;\n",
       "    }\n",
       "\n",
       "    .dataframe tbody tr th {\n",
       "        vertical-align: top;\n",
       "    }\n",
       "\n",
       "    .dataframe thead th {\n",
       "        text-align: right;\n",
       "    }\n",
       "</style>\n",
       "<table border=\"1\" class=\"dataframe\">\n",
       "  <thead>\n",
       "    <tr style=\"text-align: right;\">\n",
       "      <th></th>\n",
       "      <th>sid</th>\n",
       "      <th>spec_scopes</th>\n",
       "    </tr>\n",
       "  </thead>\n",
       "  <tbody>\n",
       "    <tr>\n",
       "      <td>0</td>\n",
       "      <td>S1.5</td>\n",
       "      <td>whether the 23rd amino acid is left undiscover...</td>\n",
       "    </tr>\n",
       "    <tr>\n",
       "      <td>1</td>\n",
       "      <td>S1.7</td>\n",
       "      <td>performance of the tRNA prediction program on ...</td>\n",
       "    </tr>\n",
       "    <tr>\n",
       "      <td>2</td>\n",
       "      <td>S1.10</td>\n",
       "      <td>Assuming that the 23rd amino acid is also enco...</td>\n",
       "    </tr>\n",
       "    <tr>\n",
       "      <td>3</td>\n",
       "      <td>S1.15</td>\n",
       "      <td>suggests that the unknown amino acid encoded b...</td>\n",
       "    </tr>\n",
       "    <tr>\n",
       "      <td>4</td>\n",
       "      <td>S1.27</td>\n",
       "      <td>suggests that its incorporation into the genet...</td>\n",
       "    </tr>\n",
       "  </tbody>\n",
       "</table>\n",
       "</div>"
      ],
      "text/plain": [
       "     sid                                        spec_scopes\n",
       "0   S1.5  whether the 23rd amino acid is left undiscover...\n",
       "1   S1.7  performance of the tRNA prediction program on ...\n",
       "2  S1.10  Assuming that the 23rd amino acid is also enco...\n",
       "3  S1.15  suggests that the unknown amino acid encoded b...\n",
       "4  S1.27  suggests that its incorporation into the genet..."
      ]
     },
     "execution_count": 11,
     "metadata": {},
     "output_type": "execute_result"
    }
   ],
   "source": [
    "speculations_df = pd.DataFrame()\n",
    "lol_specscopes = [list(elem.values()) for elem in speculations]\n",
    "lol_speckeys = [list(elem.keys()) for elem in speculations]\n",
    "\n",
    "spec_scopes = [y for x in lol_specscopes for y in x]\n",
    "spec_sid = [y for x in lol_speckeys for y in x]\n",
    "speculations_df['sid'] = spec_sid\n",
    "speculations_df['spec_scopes'] = spec_scopes\n",
    "speculations_df.head()"
   ]
  },
  {
   "cell_type": "code",
   "execution_count": 12,
   "metadata": {},
   "outputs": [
    {
     "data": {
      "text/plain": [
       "(2742, 4)"
      ]
     },
     "execution_count": 12,
     "metadata": {},
     "output_type": "execute_result"
    }
   ],
   "source": [
    "bio_df = pd.merge(sent_df,negations_df, how='left')\n",
    "bio_df_scopes = pd.merge(bio_df,speculations_df, how='left')\n",
    "bio_df_scopes.shape"
   ]
  },
  {
   "cell_type": "code",
   "execution_count": 13,
   "metadata": {},
   "outputs": [
    {
     "data": {
      "text/html": [
       "<div>\n",
       "<style scoped>\n",
       "    .dataframe tbody tr th:only-of-type {\n",
       "        vertical-align: middle;\n",
       "    }\n",
       "\n",
       "    .dataframe tbody tr th {\n",
       "        vertical-align: top;\n",
       "    }\n",
       "\n",
       "    .dataframe thead th {\n",
       "        text-align: right;\n",
       "    }\n",
       "</style>\n",
       "<table border=\"1\" class=\"dataframe\">\n",
       "  <thead>\n",
       "    <tr style=\"text-align: right;\">\n",
       "      <th></th>\n",
       "      <th>sid</th>\n",
       "      <th>sentences</th>\n",
       "      <th>neg_scopes</th>\n",
       "      <th>spec_scopes</th>\n",
       "    </tr>\n",
       "  </thead>\n",
       "  <tbody>\n",
       "    <tr>\n",
       "      <td>0</td>\n",
       "      <td>S1.1</td>\n",
       "      <td>Mining prokaryotic genomes for unknown amino a...</td>\n",
       "      <td>NaN</td>\n",
       "      <td>NaN</td>\n",
       "    </tr>\n",
       "    <tr>\n",
       "      <td>1</td>\n",
       "      <td>S1.2</td>\n",
       "      <td>Abstract</td>\n",
       "      <td>NaN</td>\n",
       "      <td>NaN</td>\n",
       "    </tr>\n",
       "    <tr>\n",
       "      <td>2</td>\n",
       "      <td>S1.3</td>\n",
       "      <td>Background</td>\n",
       "      <td>NaN</td>\n",
       "      <td>NaN</td>\n",
       "    </tr>\n",
       "  </tbody>\n",
       "</table>\n",
       "</div>"
      ],
      "text/plain": [
       "    sid                                          sentences neg_scopes  \\\n",
       "0  S1.1  Mining prokaryotic genomes for unknown amino a...        NaN   \n",
       "1  S1.2                                           Abstract        NaN   \n",
       "2  S1.3                                         Background        NaN   \n",
       "\n",
       "  spec_scopes  \n",
       "0         NaN  \n",
       "1         NaN  \n",
       "2         NaN  "
      ]
     },
     "execution_count": 13,
     "metadata": {},
     "output_type": "execute_result"
    }
   ],
   "source": [
    "bio_df_scopes.head(3)"
   ]
  },
  {
   "cell_type": "code",
   "execution_count": 14,
   "metadata": {},
   "outputs": [
    {
     "data": {
      "text/html": [
       "<div>\n",
       "<style scoped>\n",
       "    .dataframe tbody tr th:only-of-type {\n",
       "        vertical-align: middle;\n",
       "    }\n",
       "\n",
       "    .dataframe tbody tr th {\n",
       "        vertical-align: top;\n",
       "    }\n",
       "\n",
       "    .dataframe thead th {\n",
       "        text-align: right;\n",
       "    }\n",
       "</style>\n",
       "<table border=\"1\" class=\"dataframe\">\n",
       "  <thead>\n",
       "    <tr style=\"text-align: right;\">\n",
       "      <th></th>\n",
       "      <th>oidx</th>\n",
       "      <th>sid</th>\n",
       "      <th>sentences</th>\n",
       "      <th>neg_scopes</th>\n",
       "      <th>spec_scopes</th>\n",
       "    </tr>\n",
       "  </thead>\n",
       "  <tbody>\n",
       "    <tr>\n",
       "      <td>0</td>\n",
       "      <td>0</td>\n",
       "      <td>S1.1</td>\n",
       "      <td>Mining prokaryotic genomes for unknown amino a...</td>\n",
       "      <td>NaN</td>\n",
       "      <td>NaN</td>\n",
       "    </tr>\n",
       "    <tr>\n",
       "      <td>1</td>\n",
       "      <td>1</td>\n",
       "      <td>S1.2</td>\n",
       "      <td>Abstract</td>\n",
       "      <td>NaN</td>\n",
       "      <td>NaN</td>\n",
       "    </tr>\n",
       "    <tr>\n",
       "      <td>2</td>\n",
       "      <td>2</td>\n",
       "      <td>S1.3</td>\n",
       "      <td>Background</td>\n",
       "      <td>NaN</td>\n",
       "      <td>NaN</td>\n",
       "    </tr>\n",
       "    <tr>\n",
       "      <td>3</td>\n",
       "      <td>3</td>\n",
       "      <td>S1.4</td>\n",
       "      <td>Selenocysteine and pyrrolysine are the 21st an...</td>\n",
       "      <td>NaN</td>\n",
       "      <td>NaN</td>\n",
       "    </tr>\n",
       "    <tr>\n",
       "      <td>4</td>\n",
       "      <td>4</td>\n",
       "      <td>S1.5</td>\n",
       "      <td>Since a number of microbial genomes have been ...</td>\n",
       "      <td>NaN</td>\n",
       "      <td>whether the 23rd amino acid is left undiscover...</td>\n",
       "    </tr>\n",
       "  </tbody>\n",
       "</table>\n",
       "</div>"
      ],
      "text/plain": [
       "   oidx   sid                                          sentences neg_scopes  \\\n",
       "0     0  S1.1  Mining prokaryotic genomes for unknown amino a...        NaN   \n",
       "1     1  S1.2                                           Abstract        NaN   \n",
       "2     2  S1.3                                         Background        NaN   \n",
       "3     3  S1.4  Selenocysteine and pyrrolysine are the 21st an...        NaN   \n",
       "4     4  S1.5  Since a number of microbial genomes have been ...        NaN   \n",
       "\n",
       "                                         spec_scopes  \n",
       "0                                                NaN  \n",
       "1                                                NaN  \n",
       "2                                                NaN  \n",
       "3                                                NaN  \n",
       "4  whether the 23rd amino acid is left undiscover...  "
      ]
     },
     "execution_count": 14,
     "metadata": {},
     "output_type": "execute_result"
    }
   ],
   "source": [
    "bio_df_scopes.reset_index(drop=False, inplace=True)\n",
    "bio_df_scopes.rename(columns={'index':'oidx'},inplace=True)\n",
    "bio_df_scopes.head(5)"
   ]
  },
  {
   "cell_type": "code",
   "execution_count": 15,
   "metadata": {},
   "outputs": [],
   "source": [
    "bio_df_final = bio_df_scopes.groupby('sid').agg({ 'oidx':'first', 'sentences':'first','neg_scopes': list, 'spec_scopes':list})\n",
    "bio_df_final.reset_index(inplace=True)\n",
    "bio_df_final.sort_values('oidx', inplace=True)"
   ]
  },
  {
   "cell_type": "code",
   "execution_count": 16,
   "metadata": {},
   "outputs": [
    {
     "data": {
      "text/html": [
       "<div>\n",
       "<style scoped>\n",
       "    .dataframe tbody tr th:only-of-type {\n",
       "        vertical-align: middle;\n",
       "    }\n",
       "\n",
       "    .dataframe tbody tr th {\n",
       "        vertical-align: top;\n",
       "    }\n",
       "\n",
       "    .dataframe thead th {\n",
       "        text-align: right;\n",
       "    }\n",
       "</style>\n",
       "<table border=\"1\" class=\"dataframe\">\n",
       "  <thead>\n",
       "    <tr style=\"text-align: right;\">\n",
       "      <th></th>\n",
       "      <th>sid</th>\n",
       "      <th>oidx</th>\n",
       "      <th>sentences</th>\n",
       "      <th>neg_scopes</th>\n",
       "      <th>spec_scopes</th>\n",
       "    </tr>\n",
       "  </thead>\n",
       "  <tbody>\n",
       "    <tr>\n",
       "      <td>0</td>\n",
       "      <td>S1.1</td>\n",
       "      <td>0</td>\n",
       "      <td>Mining prokaryotic genomes for unknown amino a...</td>\n",
       "      <td>[nan]</td>\n",
       "      <td>[nan]</td>\n",
       "    </tr>\n",
       "    <tr>\n",
       "      <td>111</td>\n",
       "      <td>S1.2</td>\n",
       "      <td>1</td>\n",
       "      <td>Abstract</td>\n",
       "      <td>[nan]</td>\n",
       "      <td>[nan]</td>\n",
       "    </tr>\n",
       "    <tr>\n",
       "      <td>222</td>\n",
       "      <td>S1.3</td>\n",
       "      <td>2</td>\n",
       "      <td>Background</td>\n",
       "      <td>[nan]</td>\n",
       "      <td>[nan]</td>\n",
       "    </tr>\n",
       "    <tr>\n",
       "      <td>261</td>\n",
       "      <td>S1.4</td>\n",
       "      <td>3</td>\n",
       "      <td>Selenocysteine and pyrrolysine are the 21st an...</td>\n",
       "      <td>[nan]</td>\n",
       "      <td>[nan]</td>\n",
       "    </tr>\n",
       "    <tr>\n",
       "      <td>272</td>\n",
       "      <td>S1.5</td>\n",
       "      <td>4</td>\n",
       "      <td>Since a number of microbial genomes have been ...</td>\n",
       "      <td>[nan]</td>\n",
       "      <td>[whether the 23rd amino acid is left undiscove...</td>\n",
       "    </tr>\n",
       "  </tbody>\n",
       "</table>\n",
       "</div>"
      ],
      "text/plain": [
       "      sid  oidx                                          sentences neg_scopes  \\\n",
       "0    S1.1     0  Mining prokaryotic genomes for unknown amino a...      [nan]   \n",
       "111  S1.2     1                                           Abstract      [nan]   \n",
       "222  S1.3     2                                         Background      [nan]   \n",
       "261  S1.4     3  Selenocysteine and pyrrolysine are the 21st an...      [nan]   \n",
       "272  S1.5     4  Since a number of microbial genomes have been ...      [nan]   \n",
       "\n",
       "                                           spec_scopes  \n",
       "0                                                [nan]  \n",
       "111                                              [nan]  \n",
       "222                                              [nan]  \n",
       "261                                              [nan]  \n",
       "272  [whether the 23rd amino acid is left undiscove...  "
      ]
     },
     "execution_count": 16,
     "metadata": {},
     "output_type": "execute_result"
    }
   ],
   "source": [
    "bio_df_final.head(5)"
   ]
  },
  {
   "cell_type": "code",
   "execution_count": 17,
   "metadata": {},
   "outputs": [],
   "source": [
    "bio_df_final['neg_scopes'] = bio_df_final['neg_scopes'].apply(lambda x:[] if pd.isnull(x[0]) else x)\n",
    "bio_df_final['spec_scopes'] = bio_df_final['spec_scopes'].apply(lambda x:[] if pd.isnull(x[0]) else x)"
   ]
  },
  {
   "cell_type": "code",
   "execution_count": 18,
   "metadata": {},
   "outputs": [
    {
     "data": {
      "text/html": [
       "<div>\n",
       "<style scoped>\n",
       "    .dataframe tbody tr th:only-of-type {\n",
       "        vertical-align: middle;\n",
       "    }\n",
       "\n",
       "    .dataframe tbody tr th {\n",
       "        vertical-align: top;\n",
       "    }\n",
       "\n",
       "    .dataframe thead th {\n",
       "        text-align: right;\n",
       "    }\n",
       "</style>\n",
       "<table border=\"1\" class=\"dataframe\">\n",
       "  <thead>\n",
       "    <tr style=\"text-align: right;\">\n",
       "      <th></th>\n",
       "      <th>sid</th>\n",
       "      <th>oidx</th>\n",
       "      <th>sentences</th>\n",
       "      <th>neg_scopes</th>\n",
       "      <th>spec_scopes</th>\n",
       "    </tr>\n",
       "  </thead>\n",
       "  <tbody>\n",
       "    <tr>\n",
       "      <td>3</td>\n",
       "      <td>S1.101</td>\n",
       "      <td>101</td>\n",
       "      <td>The result of the above homology searches was ...</td>\n",
       "      <td>[]</td>\n",
       "      <td>[]</td>\n",
       "    </tr>\n",
       "    <tr>\n",
       "      <td>4</td>\n",
       "      <td>S1.102</td>\n",
       "      <td>102</td>\n",
       "      <td>An iORF was discarded if there were any BLAST ...</td>\n",
       "      <td>[not cover the inframe stop codon]</td>\n",
       "      <td>[]</td>\n",
       "    </tr>\n",
       "    <tr>\n",
       "      <td>5</td>\n",
       "      <td>S1.103</td>\n",
       "      <td>103</td>\n",
       "      <td>A total of 26,003 iORF satisfied the above cri...</td>\n",
       "      <td>[]</td>\n",
       "      <td>[]</td>\n",
       "    </tr>\n",
       "    <tr>\n",
       "      <td>6</td>\n",
       "      <td>S1.104</td>\n",
       "      <td>104</td>\n",
       "      <td>To examine intrafamily conservation of the inf...</td>\n",
       "      <td>[]</td>\n",
       "      <td>[]</td>\n",
       "    </tr>\n",
       "    <tr>\n",
       "      <td>7</td>\n",
       "      <td>S1.105</td>\n",
       "      <td>105</td>\n",
       "      <td>After removal of singletons, 679 clusters with...</td>\n",
       "      <td>[]</td>\n",
       "      <td>[]</td>\n",
       "    </tr>\n",
       "    <tr>\n",
       "      <td>8</td>\n",
       "      <td>S1.106</td>\n",
       "      <td>106</td>\n",
       "      <td>A cluster was discarded unless all members of ...</td>\n",
       "      <td>[]</td>\n",
       "      <td>[]</td>\n",
       "    </tr>\n",
       "    <tr>\n",
       "      <td>9</td>\n",
       "      <td>S1.107</td>\n",
       "      <td>107</td>\n",
       "      <td>The locations of the inframe stop codons were ...</td>\n",
       "      <td>[]</td>\n",
       "      <td>[]</td>\n",
       "    </tr>\n",
       "    <tr>\n",
       "      <td>10</td>\n",
       "      <td>S1.108</td>\n",
       "      <td>108</td>\n",
       "      <td>These conditions reduced the number of cluster...</td>\n",
       "      <td>[]</td>\n",
       "      <td>[]</td>\n",
       "    </tr>\n",
       "    <tr>\n",
       "      <td>11</td>\n",
       "      <td>S1.109</td>\n",
       "      <td>109</td>\n",
       "      <td>Manual inspection of these 273 clusters reveal...</td>\n",
       "      <td>[]</td>\n",
       "      <td>[]</td>\n",
       "    </tr>\n",
       "    <tr>\n",
       "      <td>13</td>\n",
       "      <td>S1.110</td>\n",
       "      <td>110</td>\n",
       "      <td>Hence, three-step filtering procedures were ap...</td>\n",
       "      <td>[]</td>\n",
       "      <td>[]</td>\n",
       "    </tr>\n",
       "    <tr>\n",
       "      <td>14</td>\n",
       "      <td>S1.111</td>\n",
       "      <td>111</td>\n",
       "      <td>Briefly, the first filter assesses protein-lik...</td>\n",
       "      <td>[]</td>\n",
       "      <td>[]</td>\n",
       "    </tr>\n",
       "    <tr>\n",
       "      <td>15</td>\n",
       "      <td>S1.112</td>\n",
       "      <td>112</td>\n",
       "      <td>As a result of the filtering, the number of ca...</td>\n",
       "      <td>[]</td>\n",
       "      <td>[]</td>\n",
       "    </tr>\n",
       "    <tr>\n",
       "      <td>16</td>\n",
       "      <td>S1.113</td>\n",
       "      <td>113</td>\n",
       "      <td>Through manual inspection of the BLAST alignme...</td>\n",
       "      <td>[]</td>\n",
       "      <td>[they are highly unlikely to code readthrough ...</td>\n",
       "    </tr>\n",
       "    <tr>\n",
       "      <td>17</td>\n",
       "      <td>S1.114</td>\n",
       "      <td>114</td>\n",
       "      <td>Known proteins in the predicted clusters</td>\n",
       "      <td>[]</td>\n",
       "      <td>[]</td>\n",
       "    </tr>\n",
       "    <tr>\n",
       "      <td>18</td>\n",
       "      <td>S1.115</td>\n",
       "      <td>115</td>\n",
       "      <td>The clusters predicted by our method are summa...</td>\n",
       "      <td>[]</td>\n",
       "      <td>[]</td>\n",
       "    </tr>\n",
       "    <tr>\n",
       "      <td>19</td>\n",
       "      <td>S1.116</td>\n",
       "      <td>116</td>\n",
       "      <td>Of the 21 clusters, 15 were known selenoprotei...</td>\n",
       "      <td>[]</td>\n",
       "      <td>[]</td>\n",
       "    </tr>\n",
       "    <tr>\n",
       "      <td>20</td>\n",
       "      <td>S1.117</td>\n",
       "      <td>117</td>\n",
       "      <td>To assess the sensitivity of our method, the r...</td>\n",
       "      <td>[]</td>\n",
       "      <td>[]</td>\n",
       "    </tr>\n",
       "    <tr>\n",
       "      <td>21</td>\n",
       "      <td>S1.118</td>\n",
       "      <td>118</td>\n",
       "      <td>Since our target is readthrough genes conserve...</td>\n",
       "      <td>[]</td>\n",
       "      <td>[]</td>\n",
       "    </tr>\n",
       "    <tr>\n",
       "      <td>22</td>\n",
       "      <td>S1.119</td>\n",
       "      <td>119</td>\n",
       "      <td>There were 15 families satisfying this criteri...</td>\n",
       "      <td>[]</td>\n",
       "      <td>[]</td>\n",
       "    </tr>\n",
       "    <tr>\n",
       "      <td>24</td>\n",
       "      <td>S1.120</td>\n",
       "      <td>120</td>\n",
       "      <td>Of the 14 families, 11 were found in our predi...</td>\n",
       "      <td>[]</td>\n",
       "      <td>[]</td>\n",
       "    </tr>\n",
       "    <tr>\n",
       "      <td>25</td>\n",
       "      <td>S1.121</td>\n",
       "      <td>121</td>\n",
       "      <td>The three families we failed to find were SelW...</td>\n",
       "      <td>[failed to find]</td>\n",
       "      <td>[]</td>\n",
       "    </tr>\n",
       "    <tr>\n",
       "      <td>26</td>\n",
       "      <td>S1.122</td>\n",
       "      <td>122</td>\n",
       "      <td>SelW-like protein was below the threshold of d...</td>\n",
       "      <td>[]</td>\n",
       "      <td>[]</td>\n",
       "    </tr>\n",
       "    <tr>\n",
       "      <td>27</td>\n",
       "      <td>S1.123</td>\n",
       "      <td>123</td>\n",
       "      <td>The reason why the two other families were not...</td>\n",
       "      <td>[the two other families were not detected]</td>\n",
       "      <td>[]</td>\n",
       "    </tr>\n",
       "    <tr>\n",
       "      <td>28</td>\n",
       "      <td>S1.124</td>\n",
       "      <td>124</td>\n",
       "      <td>Since these two families are homologous, they ...</td>\n",
       "      <td>[]</td>\n",
       "      <td>[]</td>\n",
       "    </tr>\n",
       "    <tr>\n",
       "      <td>29</td>\n",
       "      <td>S1.125</td>\n",
       "      <td>125</td>\n",
       "      <td>However, the positions of selenocysteine were ...</td>\n",
       "      <td>[]</td>\n",
       "      <td>[]</td>\n",
       "    </tr>\n",
       "    <tr>\n",
       "      <td>30</td>\n",
       "      <td>S1.126</td>\n",
       "      <td>126</td>\n",
       "      <td>The cluster was thus discarded because of an a...</td>\n",
       "      <td>[]</td>\n",
       "      <td>[apparent lack of stop codon conservation]</td>\n",
       "    </tr>\n",
       "    <tr>\n",
       "      <td>31</td>\n",
       "      <td>S1.127</td>\n",
       "      <td>127</td>\n",
       "      <td>To deal with a situation like this, a reexamin...</td>\n",
       "      <td>[]</td>\n",
       "      <td>[]</td>\n",
       "    </tr>\n",
       "    <tr>\n",
       "      <td>32</td>\n",
       "      <td>S1.128</td>\n",
       "      <td>128</td>\n",
       "      <td>Predicted clusters of readthrough proteins</td>\n",
       "      <td>[]</td>\n",
       "      <td>[]</td>\n",
       "    </tr>\n",
       "    <tr>\n",
       "      <td>33</td>\n",
       "      <td>S1.129</td>\n",
       "      <td>129</td>\n",
       "      <td>A plus sign in a locus indicates that the geno...</td>\n",
       "      <td>[]</td>\n",
       "      <td>[indicates that the genomic coordinates of the...</td>\n",
       "    </tr>\n",
       "    <tr>\n",
       "      <td>35</td>\n",
       "      <td>S1.130</td>\n",
       "      <td>130</td>\n",
       "      <td>For example, \"GSU2293 + downstream\" means that...</td>\n",
       "      <td>[]</td>\n",
       "      <td>[]</td>\n",
       "    </tr>\n",
       "    <tr>\n",
       "      <td>36</td>\n",
       "      <td>S1.131</td>\n",
       "      <td>131</td>\n",
       "      <td>HesB family was not clustered into one family,...</td>\n",
       "      <td>[HesB family was not clustered into one family]</td>\n",
       "      <td>[]</td>\n",
       "    </tr>\n",
       "    <tr>\n",
       "      <td>37</td>\n",
       "      <td>S1.132</td>\n",
       "      <td>132</td>\n",
       "      <td>Selenoprotein families we failed to detect bec...</td>\n",
       "      <td>[Selenoprotein families we failed to detect]</td>\n",
       "      <td>[]</td>\n",
       "    </tr>\n",
       "    <tr>\n",
       "      <td>38</td>\n",
       "      <td>S1.133</td>\n",
       "      <td>133</td>\n",
       "      <td>Selenoprotein families we failed to detect bec...</td>\n",
       "      <td>[Selenoprotein families we failed to detect]</td>\n",
       "      <td>[]</td>\n",
       "    </tr>\n",
       "    <tr>\n",
       "      <td>39</td>\n",
       "      <td>S1.134</td>\n",
       "      <td>134</td>\n",
       "      <td>Selenocysteine residues of Peroxiredoxin-like ...</td>\n",
       "      <td>[]</td>\n",
       "      <td>[]</td>\n",
       "    </tr>\n",
       "    <tr>\n",
       "      <td>40</td>\n",
       "      <td>S1.135</td>\n",
       "      <td>135</td>\n",
       "      <td>Columns are colored according to sequence cons...</td>\n",
       "      <td>[]</td>\n",
       "      <td>[]</td>\n",
       "    </tr>\n",
       "    <tr>\n",
       "      <td>41</td>\n",
       "      <td>S1.136</td>\n",
       "      <td>136</td>\n",
       "      <td>Selenocysteine residues are shown in red, and ...</td>\n",
       "      <td>[]</td>\n",
       "      <td>[]</td>\n",
       "    </tr>\n",
       "    <tr>\n",
       "      <td>42</td>\n",
       "      <td>S1.137</td>\n",
       "      <td>137</td>\n",
       "      <td>Prx; Peroxiredoxin, TPO; thiol:protein disulph...</td>\n",
       "      <td>[]</td>\n",
       "      <td>[]</td>\n",
       "    </tr>\n",
       "    <tr>\n",
       "      <td>43</td>\n",
       "      <td>S1.138</td>\n",
       "      <td>138</td>\n",
       "      <td>The alignments were computed using ClustalW, a...</td>\n",
       "      <td>[]</td>\n",
       "      <td>[]</td>\n",
       "    </tr>\n",
       "    <tr>\n",
       "      <td>44</td>\n",
       "      <td>S1.139</td>\n",
       "      <td>139</td>\n",
       "      <td>Of the four pyrrolysine proteins detected, thr...</td>\n",
       "      <td>[]</td>\n",
       "      <td>[]</td>\n",
       "    </tr>\n",
       "    <tr>\n",
       "      <td>46</td>\n",
       "      <td>S1.140</td>\n",
       "      <td>140</td>\n",
       "      <td>The rest is a cluster of TetR-like transcripti...</td>\n",
       "      <td>[]</td>\n",
       "      <td>[]</td>\n",
       "    </tr>\n",
       "    <tr>\n",
       "      <td>47</td>\n",
       "      <td>S1.141</td>\n",
       "      <td>141</td>\n",
       "      <td>Since the genome annotation of M. acetivorans ...</td>\n",
       "      <td>[]</td>\n",
       "      <td>[unclear whether it really contains pyrrolysine]</td>\n",
       "    </tr>\n",
       "    <tr>\n",
       "      <td>48</td>\n",
       "      <td>S1.142</td>\n",
       "      <td>142</td>\n",
       "      <td>The genome annotation of M. acetivorans also i...</td>\n",
       "      <td>[that were absent from our prediction result]</td>\n",
       "      <td>[]</td>\n",
       "    </tr>\n",
       "    <tr>\n",
       "      <td>49</td>\n",
       "      <td>S1.143</td>\n",
       "      <td>143</td>\n",
       "      <td>They are a methlycobamide:CoM methylase and fo...</td>\n",
       "      <td>[]</td>\n",
       "      <td>[]</td>\n",
       "    </tr>\n",
       "    <tr>\n",
       "      <td>50</td>\n",
       "      <td>S1.144</td>\n",
       "      <td>144</td>\n",
       "      <td>The reason why they were not detected is that ...</td>\n",
       "      <td>[they were not detected]</td>\n",
       "      <td>[]</td>\n",
       "    </tr>\n",
       "    <tr>\n",
       "      <td>51</td>\n",
       "      <td>S1.145</td>\n",
       "      <td>145</td>\n",
       "      <td>This is unavoidable because of the inability o...</td>\n",
       "      <td>[]</td>\n",
       "      <td>[]</td>\n",
       "    </tr>\n",
       "    <tr>\n",
       "      <td>52</td>\n",
       "      <td>S1.146</td>\n",
       "      <td>146</td>\n",
       "      <td>It is the price for reliably excluding pseudog...</td>\n",
       "      <td>[]</td>\n",
       "      <td>[]</td>\n",
       "    </tr>\n",
       "    <tr>\n",
       "      <td>53</td>\n",
       "      <td>S1.147</td>\n",
       "      <td>147</td>\n",
       "      <td>Unknown candidates in the predicted clusters</td>\n",
       "      <td>[]</td>\n",
       "      <td>[]</td>\n",
       "    </tr>\n",
       "    <tr>\n",
       "      <td>54</td>\n",
       "      <td>S1.148</td>\n",
       "      <td>148</td>\n",
       "      <td>The successful detection of many known protein...</td>\n",
       "      <td>[not on specific features of selenocysteine or...</td>\n",
       "      <td>[]</td>\n",
       "    </tr>\n",
       "    <tr>\n",
       "      <td>55</td>\n",
       "      <td>S1.149</td>\n",
       "      <td>149</td>\n",
       "      <td>Therefore, unknown clusters in our candidates ...</td>\n",
       "      <td>[]</td>\n",
       "      <td>[]</td>\n",
       "    </tr>\n",
       "    <tr>\n",
       "      <td>57</td>\n",
       "      <td>S1.150</td>\n",
       "      <td>150</td>\n",
       "      <td>There were two such clusters (Table 1).</td>\n",
       "      <td>[]</td>\n",
       "      <td>[]</td>\n",
       "    </tr>\n",
       "  </tbody>\n",
       "</table>\n",
       "</div>"
      ],
      "text/plain": [
       "       sid  oidx                                          sentences  \\\n",
       "3   S1.101   101  The result of the above homology searches was ...   \n",
       "4   S1.102   102  An iORF was discarded if there were any BLAST ...   \n",
       "5   S1.103   103  A total of 26,003 iORF satisfied the above cri...   \n",
       "6   S1.104   104  To examine intrafamily conservation of the inf...   \n",
       "7   S1.105   105  After removal of singletons, 679 clusters with...   \n",
       "8   S1.106   106  A cluster was discarded unless all members of ...   \n",
       "9   S1.107   107  The locations of the inframe stop codons were ...   \n",
       "10  S1.108   108  These conditions reduced the number of cluster...   \n",
       "11  S1.109   109  Manual inspection of these 273 clusters reveal...   \n",
       "13  S1.110   110  Hence, three-step filtering procedures were ap...   \n",
       "14  S1.111   111  Briefly, the first filter assesses protein-lik...   \n",
       "15  S1.112   112  As a result of the filtering, the number of ca...   \n",
       "16  S1.113   113  Through manual inspection of the BLAST alignme...   \n",
       "17  S1.114   114           Known proteins in the predicted clusters   \n",
       "18  S1.115   115  The clusters predicted by our method are summa...   \n",
       "19  S1.116   116  Of the 21 clusters, 15 were known selenoprotei...   \n",
       "20  S1.117   117  To assess the sensitivity of our method, the r...   \n",
       "21  S1.118   118  Since our target is readthrough genes conserve...   \n",
       "22  S1.119   119  There were 15 families satisfying this criteri...   \n",
       "24  S1.120   120  Of the 14 families, 11 were found in our predi...   \n",
       "25  S1.121   121  The three families we failed to find were SelW...   \n",
       "26  S1.122   122  SelW-like protein was below the threshold of d...   \n",
       "27  S1.123   123  The reason why the two other families were not...   \n",
       "28  S1.124   124  Since these two families are homologous, they ...   \n",
       "29  S1.125   125  However, the positions of selenocysteine were ...   \n",
       "30  S1.126   126  The cluster was thus discarded because of an a...   \n",
       "31  S1.127   127  To deal with a situation like this, a reexamin...   \n",
       "32  S1.128   128         Predicted clusters of readthrough proteins   \n",
       "33  S1.129   129  A plus sign in a locus indicates that the geno...   \n",
       "35  S1.130   130  For example, \"GSU2293 + downstream\" means that...   \n",
       "36  S1.131   131  HesB family was not clustered into one family,...   \n",
       "37  S1.132   132  Selenoprotein families we failed to detect bec...   \n",
       "38  S1.133   133  Selenoprotein families we failed to detect bec...   \n",
       "39  S1.134   134  Selenocysteine residues of Peroxiredoxin-like ...   \n",
       "40  S1.135   135  Columns are colored according to sequence cons...   \n",
       "41  S1.136   136  Selenocysteine residues are shown in red, and ...   \n",
       "42  S1.137   137  Prx; Peroxiredoxin, TPO; thiol:protein disulph...   \n",
       "43  S1.138   138  The alignments were computed using ClustalW, a...   \n",
       "44  S1.139   139  Of the four pyrrolysine proteins detected, thr...   \n",
       "46  S1.140   140  The rest is a cluster of TetR-like transcripti...   \n",
       "47  S1.141   141  Since the genome annotation of M. acetivorans ...   \n",
       "48  S1.142   142  The genome annotation of M. acetivorans also i...   \n",
       "49  S1.143   143  They are a methlycobamide:CoM methylase and fo...   \n",
       "50  S1.144   144  The reason why they were not detected is that ...   \n",
       "51  S1.145   145  This is unavoidable because of the inability o...   \n",
       "52  S1.146   146  It is the price for reliably excluding pseudog...   \n",
       "53  S1.147   147       Unknown candidates in the predicted clusters   \n",
       "54  S1.148   148  The successful detection of many known protein...   \n",
       "55  S1.149   149  Therefore, unknown clusters in our candidates ...   \n",
       "57  S1.150   150            There were two such clusters (Table 1).   \n",
       "\n",
       "                                           neg_scopes  \\\n",
       "3                                                  []   \n",
       "4                  [not cover the inframe stop codon]   \n",
       "5                                                  []   \n",
       "6                                                  []   \n",
       "7                                                  []   \n",
       "8                                                  []   \n",
       "9                                                  []   \n",
       "10                                                 []   \n",
       "11                                                 []   \n",
       "13                                                 []   \n",
       "14                                                 []   \n",
       "15                                                 []   \n",
       "16                                                 []   \n",
       "17                                                 []   \n",
       "18                                                 []   \n",
       "19                                                 []   \n",
       "20                                                 []   \n",
       "21                                                 []   \n",
       "22                                                 []   \n",
       "24                                                 []   \n",
       "25                                   [failed to find]   \n",
       "26                                                 []   \n",
       "27         [the two other families were not detected]   \n",
       "28                                                 []   \n",
       "29                                                 []   \n",
       "30                                                 []   \n",
       "31                                                 []   \n",
       "32                                                 []   \n",
       "33                                                 []   \n",
       "35                                                 []   \n",
       "36    [HesB family was not clustered into one family]   \n",
       "37       [Selenoprotein families we failed to detect]   \n",
       "38       [Selenoprotein families we failed to detect]   \n",
       "39                                                 []   \n",
       "40                                                 []   \n",
       "41                                                 []   \n",
       "42                                                 []   \n",
       "43                                                 []   \n",
       "44                                                 []   \n",
       "46                                                 []   \n",
       "47                                                 []   \n",
       "48      [that were absent from our prediction result]   \n",
       "49                                                 []   \n",
       "50                           [they were not detected]   \n",
       "51                                                 []   \n",
       "52                                                 []   \n",
       "53                                                 []   \n",
       "54  [not on specific features of selenocysteine or...   \n",
       "55                                                 []   \n",
       "57                                                 []   \n",
       "\n",
       "                                          spec_scopes  \n",
       "3                                                  []  \n",
       "4                                                  []  \n",
       "5                                                  []  \n",
       "6                                                  []  \n",
       "7                                                  []  \n",
       "8                                                  []  \n",
       "9                                                  []  \n",
       "10                                                 []  \n",
       "11                                                 []  \n",
       "13                                                 []  \n",
       "14                                                 []  \n",
       "15                                                 []  \n",
       "16  [they are highly unlikely to code readthrough ...  \n",
       "17                                                 []  \n",
       "18                                                 []  \n",
       "19                                                 []  \n",
       "20                                                 []  \n",
       "21                                                 []  \n",
       "22                                                 []  \n",
       "24                                                 []  \n",
       "25                                                 []  \n",
       "26                                                 []  \n",
       "27                                                 []  \n",
       "28                                                 []  \n",
       "29                                                 []  \n",
       "30         [apparent lack of stop codon conservation]  \n",
       "31                                                 []  \n",
       "32                                                 []  \n",
       "33  [indicates that the genomic coordinates of the...  \n",
       "35                                                 []  \n",
       "36                                                 []  \n",
       "37                                                 []  \n",
       "38                                                 []  \n",
       "39                                                 []  \n",
       "40                                                 []  \n",
       "41                                                 []  \n",
       "42                                                 []  \n",
       "43                                                 []  \n",
       "44                                                 []  \n",
       "46                                                 []  \n",
       "47   [unclear whether it really contains pyrrolysine]  \n",
       "48                                                 []  \n",
       "49                                                 []  \n",
       "50                                                 []  \n",
       "51                                                 []  \n",
       "52                                                 []  \n",
       "53                                                 []  \n",
       "54                                                 []  \n",
       "55                                                 []  \n",
       "57                                                 []  "
      ]
     },
     "execution_count": 18,
     "metadata": {},
     "output_type": "execute_result"
    }
   ],
   "source": [
    "bio_df_final.iloc[100:150,:]"
   ]
  },
  {
   "cell_type": "code",
   "execution_count": 19,
   "metadata": {},
   "outputs": [
    {
     "data": {
      "text/plain": [
       "(2670, 5)"
      ]
     },
     "execution_count": 19,
     "metadata": {},
     "output_type": "execute_result"
    }
   ],
   "source": [
    "bio_df_final.shape"
   ]
  },
  {
   "cell_type": "code",
   "execution_count": 20,
   "metadata": {},
   "outputs": [],
   "source": [
    "bio_df_final.to_excel('bio_df__fullpapers_final.xlsx', index=False)"
   ]
  },
  {
   "cell_type": "code",
   "execution_count": null,
   "metadata": {},
   "outputs": [],
   "source": []
  },
  {
   "cell_type": "code",
   "execution_count": null,
   "metadata": {},
   "outputs": [],
   "source": [
    "len(sentences)"
   ]
  },
  {
   "cell_type": "code",
   "execution_count": null,
   "metadata": {},
   "outputs": [],
   "source": [
    "for scope in root.iter('cue'):\n",
    "        print (scope.text)"
   ]
  },
  {
   "cell_type": "code",
   "execution_count": null,
   "metadata": {},
   "outputs": [],
   "source": [
    "sentences = []\n",
    "scopes = []\n",
    "\n",
    "for sentence in root.iter('sentence'):\n",
    "    for scope in sentence.iter():\n",
    "        print (scope.text, scope.tag)\n",
    "#         if(scope.tag == 'sentence'):\n",
    "#             sentences.append(''.join(scope.itertext()))\n",
    "#             scopes.append('')\n",
    "#         elif(scope.tag == 'xcope'):\n",
    "#             scopes.append(''.join(scope.itertext()))"
   ]
  },
  {
   "cell_type": "code",
   "execution_count": null,
   "metadata": {},
   "outputs": [],
   "source": [
    "sentences"
   ]
  },
  {
   "cell_type": "code",
   "execution_count": null,
   "metadata": {},
   "outputs": [],
   "source": [
    "scopes"
   ]
  },
  {
   "cell_type": "code",
   "execution_count": null,
   "metadata": {},
   "outputs": [],
   "source": []
  },
  {
   "cell_type": "code",
   "execution_count": null,
   "metadata": {},
   "outputs": [],
   "source": [
    "sentences"
   ]
  },
  {
   "cell_type": "code",
   "execution_count": null,
   "metadata": {},
   "outputs": [],
   "source": [
    "scopes"
   ]
  },
  {
   "cell_type": "code",
   "execution_count": null,
   "metadata": {},
   "outputs": [],
   "source": [
    "for movie in root.findall(\"./genre/decade/movie/format/[@multiple='Yes']...\"):\n",
    "    print(movie.attrib)"
   ]
  },
  {
   "cell_type": "code",
   "execution_count": null,
   "metadata": {},
   "outputs": [],
   "source": [
    "import xml.etree.ElementTree as ET\n",
    "#x =  # your xml file\n",
    "tree = ET.parse(\"C:/Users/Sri/Google Drive/Data Science/Python/Data_formats/jonas_github/original_data_jonas/abstracts.xml\")\n",
    "root = tree.getroot()\n",
    "string = \"\"\n",
    "for c in root:\n",
    "    string +=  c.text.strip()\n",
    "print (string)"
   ]
  },
  {
   "cell_type": "code",
   "execution_count": null,
   "metadata": {},
   "outputs": [],
   "source": [
    "print(ET.tostring(root, encoding='utf8').decode('utf8'))"
   ]
  },
  {
   "cell_type": "code",
   "execution_count": null,
   "metadata": {},
   "outputs": [],
   "source": [
    "root.tag"
   ]
  },
  {
   "cell_type": "code",
   "execution_count": null,
   "metadata": {},
   "outputs": [],
   "source": [
    "root.attrib"
   ]
  },
  {
   "cell_type": "code",
   "execution_count": null,
   "metadata": {},
   "outputs": [],
   "source": [
    "for child in root:\n",
    "    print (child.tag, child.attrib)"
   ]
  },
  {
   "cell_type": "code",
   "execution_count": null,
   "metadata": {},
   "outputs": [],
   "source": [
    "#To see all the elements in the entire tree"
   ]
  },
  {
   "cell_type": "code",
   "execution_count": null,
   "metadata": {},
   "outputs": [],
   "source": []
  },
  {
   "cell_type": "code",
   "execution_count": null,
   "metadata": {},
   "outputs": [],
   "source": [
    "# helpfulway to see the whole document"
   ]
  },
  {
   "cell_type": "code",
   "execution_count": null,
   "metadata": {
    "scrolled": true
   },
   "outputs": [],
   "source": [
    "print(ET.tostring(root, encoding='utf8').decode('utf8'))"
   ]
  },
  {
   "cell_type": "code",
   "execution_count": null,
   "metadata": {},
   "outputs": [],
   "source": [
    "def all_texts(root):\n",
    "    for child in root:\n",
    "         yield child.tail"
   ]
  },
  {
   "cell_type": "code",
   "execution_count": null,
   "metadata": {},
   "outputs": [],
   "source": [
    "list(all_texts(doc))"
   ]
  },
  {
   "cell_type": "code",
   "execution_count": null,
   "metadata": {},
   "outputs": [],
   "source": [
    "import xml.etree.ElementTree as et\n",
    "\n",
    "xml = \"\"\"\n",
    "<A>\n",
    "    hello\n",
    "\n",
    "    <annotation> NOT part of text </annotation>\n",
    "\n",
    "    world\n",
    "</A>\"\"\""
   ]
  },
  {
   "cell_type": "code",
   "execution_count": null,
   "metadata": {},
   "outputs": [],
   "source": [
    "doc = et.fromstring(xml)"
   ]
  },
  {
   "cell_type": "code",
   "execution_count": null,
   "metadata": {},
   "outputs": [],
   "source": [
    "def all_texts(root):\n",
    "    if root.text is not None:\n",
    "         yield root.text\n",
    "    for child in root:\n",
    "         if child.tail is not None:\n",
    "            yield child.tail"
   ]
  },
  {
   "cell_type": "code",
   "execution_count": null,
   "metadata": {},
   "outputs": [],
   "source": [
    "list(all_texts(doc))"
   ]
  },
  {
   "cell_type": "code",
   "execution_count": null,
   "metadata": {},
   "outputs": [],
   "source": [
    "# To look inside a particular element"
   ]
  },
  {
   "cell_type": "code",
   "execution_count": null,
   "metadata": {},
   "outputs": [],
   "source": [
    "len([sent.text for sent in root.iter('sentence')])"
   ]
  },
  {
   "cell_type": "code",
   "execution_count": null,
   "metadata": {},
   "outputs": [],
   "source": [
    "for child in root.iter('sentence'):\n",
    "    print (sent.tail.text)"
   ]
  },
  {
   "cell_type": "code",
   "execution_count": null,
   "metadata": {},
   "outputs": [],
   "source": [
    "for child in root.findall(\"./DocumentSet/Document/DocID/DocumentPart/sentence\"):\n",
    "    print (child.attrib, child.text)"
   ]
  },
  {
   "cell_type": "code",
   "execution_count": null,
   "metadata": {},
   "outputs": [],
   "source": [
    "scopes = [sent.text for sent in root.iter('xcope')]\n",
    "scopes"
   ]
  },
  {
   "cell_type": "code",
   "execution_count": null,
   "metadata": {},
   "outputs": [],
   "source": [
    "sents[3]"
   ]
  },
  {
   "cell_type": "code",
   "execution_count": null,
   "metadata": {},
   "outputs": [],
   "source": [
    "sents[4]"
   ]
  },
  {
   "cell_type": "code",
   "execution_count": null,
   "metadata": {},
   "outputs": [],
   "source": [
    "[movie.attrib for movie in root.iter('format')]"
   ]
  },
  {
   "cell_type": "markdown",
   "metadata": {},
   "source": [
    "**XPath Expressions\n",
    "Many times elements will not have attributes, they will only have text content. Using the attribute .text, you can print out this content.**"
   ]
  },
  {
   "cell_type": "code",
   "execution_count": null,
   "metadata": {},
   "outputs": [],
   "source": [
    "for description in root.iter('description'):\n",
    "    print(description.text)"
   ]
  },
  {
   "cell_type": "code",
   "execution_count": null,
   "metadata": {},
   "outputs": [],
   "source": [
    "for format in root.iter('format'):\n",
    "    print(format.text)"
   ]
  },
  {
   "cell_type": "markdown",
   "metadata": {},
   "source": [
    "**Understanding XPath is critically important to scanning and populating XMLs. ElementTree has a .findall() function that will traverse the immediate children of the referenced element. You can use XPath expressions to specify more useful searches.**"
   ]
  },
  {
   "cell_type": "code",
   "execution_count": null,
   "metadata": {
    "scrolled": true
   },
   "outputs": [],
   "source": [
    "for movie in root.findall(\"./genre/decade/movie/[year='1992']\"):\n",
    "    print(movie.attrib)"
   ]
  },
  {
   "cell_type": "markdown",
   "metadata": {},
   "source": [
    "**The function .findall() always begins at the element specified. This type of function is extremely powerful for a \"find and replace\". You can even search on attributes!\n",
    "Now, print out only the movies that are available in multiple formats (an attribute).**"
   ]
  },
  {
   "cell_type": "code",
   "execution_count": null,
   "metadata": {},
   "outputs": [],
   "source": [
    "for format in root.findall(\"./genre/decade/movie/format/[@multiple='Yes']\"):\n",
    "    print(format.attrib)"
   ]
  },
  {
   "cell_type": "code",
   "execution_count": null,
   "metadata": {},
   "outputs": [],
   "source": [
    "# with findall you can traverse the children and also the attribues of an element"
   ]
  },
  {
   "cell_type": "code",
   "execution_count": null,
   "metadata": {},
   "outputs": [],
   "source": [
    "for format in root.findall(\"./genre/decade/movie/[@multiple='Yes']\"):\n",
    "    print(format.attrib)\n",
    "#we get nothing here because @multiple is not an attribue of movie nor its child."
   ]
  },
  {
   "cell_type": "code",
   "execution_count": null,
   "metadata": {},
   "outputs": [],
   "source": [
    "# to return the parent attribute of the current element use ..."
   ]
  },
  {
   "cell_type": "code",
   "execution_count": null,
   "metadata": {},
   "outputs": [],
   "source": [
    "for movie in root.findall(\"./genre/decade/movie/format/[@multiple='Yes']...\"):\n",
    "    print(movie.attrib)"
   ]
  },
  {
   "cell_type": "markdown",
   "metadata": {},
   "source": [
    "### Modifying an XML"
   ]
  },
  {
   "cell_type": "code",
   "execution_count": null,
   "metadata": {},
   "outputs": [],
   "source": [
    "for movie in root.iter('movie'):\n",
    "    print (movie.attrib)"
   ]
  },
  {
   "cell_type": "code",
   "execution_count": null,
   "metadata": {},
   "outputs": [],
   "source": [
    "b2tf = root.find(\"./genre/decade/movie/[@title='Back 2 the Future']\")\n",
    "b2tf"
   ]
  },
  {
   "cell_type": "markdown",
   "metadata": {},
   "source": [
    "Notice that using the .find() method returns an element of the tree. Much of the time, it is more useful to edit the content within an element.\n",
    "Modify the title attribute of the Back 2 the Future element variable to read \"Back to the Future\". Then, print out the attributes of your variable to see your change. You can easily do this by accessing the attribute of an element and then assigning a new value to it:"
   ]
  },
  {
   "cell_type": "code",
   "execution_count": null,
   "metadata": {},
   "outputs": [],
   "source": [
    "b2tf.attrib[\"title\"] = \"Back to the Future\"\n",
    "print(b2tf.attrib)"
   ]
  },
  {
   "cell_type": "markdown",
   "metadata": {},
   "source": [
    "Write out your changes back to the XML so they are permanently fixed in the document. Print out your movie attributes again to make sure your changes worked. Use the .write() method to do this:"
   ]
  },
  {
   "cell_type": "code",
   "execution_count": null,
   "metadata": {},
   "outputs": [],
   "source": [
    "tree.write(\"movies.xml\") # this overwrites the xml file.\n",
    "# interesting, we saved the change to a variable, but the original document\n",
    "# got updated with the above command.\n",
    "\n",
    "tree = ET.parse('movies.xml')\n",
    "root = tree.getroot()\n",
    "\n",
    "for movie in root.iter('movie'):\n",
    "    print(movie.attrib)"
   ]
  },
  {
   "cell_type": "markdown",
   "metadata": {},
   "source": [
    "Fixing Attributes\n",
    "The multiple attribute is incorrect in some places. Use ElementTree to fix the designator based on how many formats the movie comes in. First, print the format attribute and text to see which parts need to be fixed."
   ]
  },
  {
   "cell_type": "code",
   "execution_count": null,
   "metadata": {},
   "outputs": [],
   "source": [
    "for form in root.findall(\"./genre/decade/movie/format\"):\n",
    "    print(form.attrib, form.text)"
   ]
  },
  {
   "cell_type": "code",
   "execution_count": null,
   "metadata": {},
   "outputs": [],
   "source": [
    "import re\n",
    "\n",
    "for form in root.findall(\"./genre/decade/movie/format\"):\n",
    "    # Search for the commas in the format text\n",
    "    match = re.search(',',form.text)\n",
    "    if match:\n",
    "        form.set('multiple','Yes')\n",
    "    else:\n",
    "        form.set('multiple','No')"
   ]
  },
  {
   "cell_type": "code",
   "execution_count": null,
   "metadata": {},
   "outputs": [],
   "source": [
    "# Write out the tree to the file again\n",
    "tree.write(\"movies.xml\")\n",
    "\n",
    "tree = ET.parse('movies.xml')\n",
    "root = tree.getroot()\n",
    "\n",
    "for form in root.findall(\"./genre/decade/movie/format\"):\n",
    "    print(form.attrib, form.text)"
   ]
  },
  {
   "cell_type": "markdown",
   "metadata": {},
   "source": [
    "Moving Elements\n",
    "Some of the data has been placed in the wrong decade. Use what you have learned about XML and ElementTree to find and fix the decade data errors.\n",
    "\n",
    "It will be useful to print out both the decade tags and the year tags throughout the document."
   ]
  },
  {
   "cell_type": "code",
   "execution_count": null,
   "metadata": {},
   "outputs": [],
   "source": [
    "for decade in root.findall(\"./genre/decade\"):\n",
    "    print(decade.attrib)\n",
    "    for year in decade.findall(\"./movie/year\"):\n",
    "        print(year.text, '\\n')"
   ]
  },
  {
   "cell_type": "code",
   "execution_count": null,
   "metadata": {},
   "outputs": [],
   "source": [
    "for decade in root.iter('decade'):\n",
    "    print(decade.attrib)"
   ]
  },
  {
   "cell_type": "markdown",
   "metadata": {},
   "source": [
    "The two years that are in the wrong decade are the movies from the 2000s. Figure out what those movies are, using an XPath expression."
   ]
  },
  {
   "cell_type": "code",
   "execution_count": null,
   "metadata": {},
   "outputs": [],
   "source": [
    "for movie in root.findall(\"./genre/decade/movie/[year='2000']\"):\n",
    "    print (movie.attrib)"
   ]
  },
  {
   "cell_type": "markdown",
   "metadata": {},
   "source": [
    "You have to add a new decade tag, the 2000s, to the Action genre in order to move the X-Men data. The .SubElement() method can be used to add this tag to the end of the XML."
   ]
  },
  {
   "cell_type": "code",
   "execution_count": null,
   "metadata": {},
   "outputs": [],
   "source": [
    "action = root.find(\"./genre[@category='Action']\")\n",
    "new_dec = ET.SubElement(action, 'decade')\n",
    "new_dec.attrib[\"years\"] = '2000s'"
   ]
  },
  {
   "cell_type": "code",
   "execution_count": null,
   "metadata": {},
   "outputs": [],
   "source": [
    "print(ET.tostring(action, encoding='utf8').decode('utf8'))"
   ]
  },
  {
   "cell_type": "markdown",
   "metadata": {},
   "source": [
    "Now append the X-Men movie to the 2000s and remove it from the 1990s, using .append() and .remove(), respectively."
   ]
  },
  {
   "cell_type": "code",
   "execution_count": null,
   "metadata": {},
   "outputs": [],
   "source": [
    "xmen = root.find(\"./genre/decade/movie[@title='X-Men']\")\n",
    "dec2000s = root.find(\"./genre[@category='Action']/decade[@years='2000s']\")\n",
    "dec2000s.append(xmen)\n",
    "dec1990s = root.find(\"./genre[@category='Action']/decade[@years='1990s']\")\n",
    "dec1990s.remove(xmen)"
   ]
  },
  {
   "cell_type": "code",
   "execution_count": null,
   "metadata": {},
   "outputs": [],
   "source": [
    "print(ET.tostring(action, encoding='utf8').decode('utf8'))"
   ]
  },
  {
   "cell_type": "markdown",
   "metadata": {},
   "source": [
    "Build XML Documents\n",
    "Nice, so you were able to essentially move an entire movie to a new decade. Save your changes back to the XML."
   ]
  },
  {
   "cell_type": "code",
   "execution_count": null,
   "metadata": {},
   "outputs": [],
   "source": [
    "tree.write(\"movies.xml\")\n",
    "\n",
    "tree = ET.parse('movies.xml')\n",
    "root = tree.getroot()\n",
    "\n",
    "print(ET.tostring(root, encoding='utf8').decode('utf8'))"
   ]
  },
  {
   "cell_type": "code",
   "execution_count": null,
   "metadata": {},
   "outputs": [],
   "source": []
  }
 ],
 "metadata": {
  "kernelspec": {
   "display_name": "Python 3",
   "language": "python",
   "name": "python3"
  },
  "language_info": {
   "codemirror_mode": {
    "name": "ipython",
    "version": 3
   },
   "file_extension": ".py",
   "mimetype": "text/x-python",
   "name": "python",
   "nbconvert_exporter": "python",
   "pygments_lexer": "ipython3",
   "version": "3.6.9"
  }
 },
 "nbformat": 4,
 "nbformat_minor": 2
}
